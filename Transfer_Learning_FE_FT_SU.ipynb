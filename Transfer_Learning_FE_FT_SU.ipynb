{
  "cells": [
    {
      "cell_type": "markdown",
      "metadata": {
        "id": "view-in-github",
        "colab_type": "text"
      },
      "source": [
        "<a href=\"https://colab.research.google.com/github/CharlemagneBrain/Transfer_Learning/blob/main/Transfer_Learning_FE_FT_SU.ipynb\" target=\"_parent\"><img src=\"https://colab.research.google.com/assets/colab-badge.svg\" alt=\"Open In Colab\"/></a>"
      ]
    },
    {
      "cell_type": "markdown",
      "metadata": {
        "id": "8pX_Q0SzQLn9"
      },
      "source": [
        "## **Première partie**: Extraction de caractéristiques ⚒\n",
        "\n",
        "=> Consiste à prendre les poids sous jacents qu'un modèle préentrainé a appris et à ajuster ses sorties pour qu'elles plus adaptées à notre problème.\n",
        "\n",
        "### Téléchargeons nos données "
      ]
    },
    {
      "cell_type": "code",
      "execution_count": 1,
      "metadata": {
        "colab": {
          "base_uri": "https://localhost:8080/"
        },
        "id": "Cw0GcbJzSl83",
        "outputId": "b543b7f2-e8b7-4e9d-ee20-b438ae64909f"
      },
      "outputs": [
        {
          "output_type": "stream",
          "name": "stdout",
          "text": [
            "--2023-01-04 15:34:55--  https://storage.googleapis.com/ztm_tf_course/food_vision/10_food_classes_10_percent.zip\n",
            "Resolving storage.googleapis.com (storage.googleapis.com)... 74.125.197.128, 74.125.135.128, 142.250.99.128, ...\n",
            "Connecting to storage.googleapis.com (storage.googleapis.com)|74.125.197.128|:443... connected.\n",
            "HTTP request sent, awaiting response... 200 OK\n",
            "Length: 168546183 (161M) [application/zip]\n",
            "Saving to: ‘10_food_classes_10_percent.zip’\n",
            "\n",
            "10_food_classes_10_ 100%[===================>] 160.74M   176MB/s    in 0.9s    \n",
            "\n",
            "2023-01-04 15:34:56 (176 MB/s) - ‘10_food_classes_10_percent.zip’ saved [168546183/168546183]\n",
            "\n"
          ]
        }
      ],
      "source": [
        "import zipfile\n",
        "import os\n",
        "\n",
        "!wget https://storage.googleapis.com/ztm_tf_course/food_vision/10_food_classes_10_percent.zip\n",
        "\n",
        "zip_ref = zipfile.ZipFile(\"10_food_classes_10_percent.zip\", \"r\")\n",
        "zip_ref.extractall()\n",
        "zip_ref.close()"
      ]
    },
    {
      "cell_type": "markdown",
      "metadata": {
        "id": "ZVnA-VctBYRO"
      },
      "source": [
        "### Combien d'images par dossiers avons nous ?"
      ]
    },
    {
      "cell_type": "code",
      "execution_count": 2,
      "metadata": {
        "colab": {
          "base_uri": "https://localhost:8080/"
        },
        "id": "wS045uR7TgZL",
        "outputId": "5fecb86b-ec2a-46a0-ef7e-b4deaf45e2e2"
      },
      "outputs": [
        {
          "output_type": "stream",
          "name": "stdout",
          "text": [
            "Il y a 2 dossiers et 0 images dans 10_food_classes_10_percent/ \n",
            "Il y a 10 dossiers et 0 images dans 10_food_classes_10_percent/train \n",
            "Il y a 0 dossiers et 75 images dans 10_food_classes_10_percent/train/fried_rice \n",
            "Il y a 0 dossiers et 75 images dans 10_food_classes_10_percent/train/hamburger \n",
            "Il y a 0 dossiers et 75 images dans 10_food_classes_10_percent/train/ice_cream \n",
            "Il y a 0 dossiers et 75 images dans 10_food_classes_10_percent/train/chicken_curry \n",
            "Il y a 0 dossiers et 75 images dans 10_food_classes_10_percent/train/sushi \n",
            "Il y a 0 dossiers et 75 images dans 10_food_classes_10_percent/train/chicken_wings \n",
            "Il y a 0 dossiers et 75 images dans 10_food_classes_10_percent/train/ramen \n",
            "Il y a 0 dossiers et 75 images dans 10_food_classes_10_percent/train/grilled_salmon \n",
            "Il y a 0 dossiers et 75 images dans 10_food_classes_10_percent/train/pizza \n",
            "Il y a 0 dossiers et 75 images dans 10_food_classes_10_percent/train/steak \n",
            "Il y a 10 dossiers et 0 images dans 10_food_classes_10_percent/test \n",
            "Il y a 0 dossiers et 250 images dans 10_food_classes_10_percent/test/fried_rice \n",
            "Il y a 0 dossiers et 250 images dans 10_food_classes_10_percent/test/hamburger \n",
            "Il y a 0 dossiers et 250 images dans 10_food_classes_10_percent/test/ice_cream \n",
            "Il y a 0 dossiers et 250 images dans 10_food_classes_10_percent/test/chicken_curry \n",
            "Il y a 0 dossiers et 250 images dans 10_food_classes_10_percent/test/sushi \n",
            "Il y a 0 dossiers et 250 images dans 10_food_classes_10_percent/test/chicken_wings \n",
            "Il y a 0 dossiers et 250 images dans 10_food_classes_10_percent/test/ramen \n",
            "Il y a 0 dossiers et 250 images dans 10_food_classes_10_percent/test/grilled_salmon \n",
            "Il y a 0 dossiers et 250 images dans 10_food_classes_10_percent/test/pizza \n",
            "Il y a 0 dossiers et 250 images dans 10_food_classes_10_percent/test/steak \n"
          ]
        }
      ],
      "source": [
        "for dirpath, dirnames, filenames in os.walk(\"10_food_classes_10_percent/\"):\n",
        "  print(f\"Il y a {len(dirnames)} dossiers et {len(filenames)} images dans {dirpath} \")"
      ]
    },
    {
      "cell_type": "code",
      "execution_count": 3,
      "metadata": {
        "id": "wf_L5b71XpFe"
      },
      "outputs": [],
      "source": [
        "import tensorflow as tf\n",
        "from tensorflow.keras.preprocessing.image import ImageDataGenerator"
      ]
    },
    {
      "cell_type": "markdown",
      "metadata": {
        "id": "Bpxoic8bBq65"
      },
      "source": [
        "Le paramètre rescale, ainsi que 1/255, revient à dire \"divisez toutes les valeurs des pixels par 255\". \n",
        "Ainsi, toutes les images sont importées et leurs valeurs de pixels sont normalisées (converties pour être comprises entre 0 et 1)."
      ]
    },
    {
      "cell_type": "code",
      "execution_count": 4,
      "metadata": {
        "colab": {
          "base_uri": "https://localhost:8080/"
        },
        "id": "BFiZbBhSYXTa",
        "outputId": "e8aaecd3-1b57-4ca9-c972-b3615b02e10a"
      },
      "outputs": [
        {
          "output_type": "stream",
          "name": "stdout",
          "text": [
            "Entrainement:\n",
            "Found 750 images belonging to 10 classes.\n",
            "Test:\n",
            "Found 2500 images belonging to 10 classes.\n"
          ]
        }
      ],
      "source": [
        "IMAGE_SHAPE = (224, 224)\n",
        "BATCH_SIZE = 32\n",
        "\n",
        "train_dir = \"10_food_classes_10_percent/train/\"\n",
        "test_dir = \"10_food_classes_10_percent/test/\"\n",
        "\n",
        "train_datagen = ImageDataGenerator(rescale=1/255.)\n",
        "test_datagen = ImageDataGenerator(rescale=1/255.)\n",
        "\n",
        "print(\"Entrainement:\")\n",
        "train_data_10_percent = train_datagen.flow_from_directory(train_dir,\n",
        "                                               target_size=IMAGE_SHAPE,\n",
        "                                               batch_size=BATCH_SIZE,\n",
        "                                               class_mode=\"categorical\")\n",
        "\n",
        "print(\"Test:\")\n",
        "test_data = train_datagen.flow_from_directory(test_dir,\n",
        "                                              target_size=IMAGE_SHAPE,\n",
        "                                              batch_size=BATCH_SIZE,\n",
        "                                              class_mode=\"categorical\")"
      ]
    },
    {
      "cell_type": "markdown",
      "metadata": {
        "id": "rVnYwQz-iWMw"
      },
      "source": [
        "### Création d'un callback TensorBoard\n",
        "\n",
        "Les callbacks 🆕 sont des fonctionnalités supplémentaires que l'on peut ajouter à vos modèles et qui seront exécutées pendant ou après la formation. Voici quelques-uns des callbacks les plus populaires :\n",
        "\n",
        "- ⛓ Suivi des expériences avec TensorBoard (Experiment tracking with TensorBoard):  enregistrer les performances de plusieurs modèles, puis visualiser et comparer ces modèles de manière visuelle sur TensorBoard (un tableau de bord pour inspecter les paramètres des réseaux neuronaux). Utile pour comparer les résultats de différents modèles sur vos données.\n",
        "\n",
        "- 🎛 Point de contrôle du modèle(Model checkpointing) : enregistrer notre modèle au fur et à mesure qu'il s'entraîne afin de pouvoir interrompre l'entraînement si nécessaire et revenir pour reprendre là où nous en étions. Utile si la formation prend beaucoup de temps et ne peut pas être effectuée en une seule séance.\n",
        "\n",
        "- 🛑 Arrêt anticipé (Early stopping) :  laisser notre modèle s'entraîner pendant une durée arbitraire et faire en sorte qu'il s'arrête automatiquement lorsqu'il ne s'améliore plus. Cette option est utile lorsque nous disposons d'un grand ensemble de données et que nous ne savons pas combien de temps la formation prendra.\n",
        "\n",
        "On peut accéder à la fonction de rappel TensorBoard en utilisant `tf.keras.callbacks.TensorBoard()`.\n",
        "\n",
        "Sa principale fonctionnalité est l'enregistrement des mesures de performance de la formation d'un modèle dans un répertoire log_dir spécifié.\n",
        "\n",
        "💡 Par défaut, les journaux sont enregistrés toutes les époques en utilisant le paramètre `update_freq='epoch'`. Il s'agit d'une bonne valeur par défaut, car le suivi des performances du modèle trop souvent peut ralentir la formation du modèle.\n",
        "\n",
        "\n",
        "🔑 Remarque : nous créons une fonction pour créer une callback TensorBoard car, comme nous le verrons plus tard, chaque modèle a besoin de sa propre instance de callback TensorBoard (la fonction en créera donc une nouvelle à chaque exécution).\n",
        "\n"
      ]
    },
    {
      "cell_type": "markdown",
      "metadata": {
        "id": "EvG_fBXeB-RT"
      },
      "source": [
        "dirname = répertoire général des journaux\n",
        "experiment_name = nom de l'expérience \n",
        "\n",
        "Par exemple, si dirname est \"logs\" et experiment_name est \"exp1\", log_dir pourrait être \"logs/exp1/20210301-124532\"."
      ]
    },
    {
      "cell_type": "code",
      "execution_count": 5,
      "metadata": {
        "id": "E3SSjsURk52v"
      },
      "outputs": [],
      "source": [
        "import datetime\n",
        "def create_tensorboard_callback(dir_name, experiment_name):\n",
        "  log_dir = dir_name + \"/\" + experiment_name + \"/\" + datetime.datetime.now().strftime(\"%Y%m%d-%H%M%S\")\n",
        "  tensorboard_callback = tf.keras.callbacks.TensorBoard(\n",
        "      log_dir=log_dir\n",
        "  )\n",
        "  print(f\"Sauvegarde fichiers log dans: {log_dir}\")\n",
        "  return tensorboard_callback"
      ]
    },
    {
      "cell_type": "markdown",
      "metadata": {
        "id": "hlCMdQnCqSdL"
      },
      "source": [
        "### Création de model avec Tensorflow Hub"
      ]
    },
    {
      "cell_type": "code",
      "execution_count": 6,
      "metadata": {
        "id": "OoAXw4gVq2Zi"
      },
      "outputs": [],
      "source": [
        "import tensorflow as tf\n",
        "import tensorflow_hub as hub\n",
        "from tensorflow.keras import layers"
      ]
    },
    {
      "cell_type": "markdown",
      "metadata": {
        "id": "daiNwgOnCZjp"
      },
      "source": [
        "Prend une URL de Hub TensorFlow et crée un modèle Keras Sequential avec celle-ci.\n",
        "  \n",
        "  Arguments :\n",
        "    model_url (str) : Une URL d'extraction de caractéristiques de TensorFlow Hub.\n",
        "    num_classes (int) : Nombre de neurones de sortie dans la couche de sortie,\n",
        "      doit être égal au nombre de classes cibles, par défaut 10.\n",
        "\n",
        "  Retourne :\n",
        "    Un modèle séquentiel Keras non compilé, avec model_url comme couche\n",
        "    extracteur de caractéristiques et une couche de sortie dense avec des sorties num_classes."
      ]
    },
    {
      "cell_type": "code",
      "execution_count": 7,
      "metadata": {
        "id": "r_dHKpxPuQgm"
      },
      "outputs": [],
      "source": [
        "\n",
        "# Resnet 50 V2 feature vector\n",
        "resnet_url = \"https://tfhub.dev/google/imagenet/resnet_v2_50/feature_vector/4\"\n",
        "\n",
        "# Original: EfficientNetB0 feature vector (version 1)\n",
        "efficientnet_url = \"https://tfhub.dev/tensorflow/efficientnet/b0/feature-vector/1\""
      ]
    },
    {
      "cell_type": "code",
      "execution_count": 8,
      "metadata": {
        "id": "SbQl-LdNCj6h"
      },
      "outputs": [],
      "source": [
        "def create_model(model_url, num_classes=10):\n",
        "  \n",
        "  # Modèle prétrainé\n",
        "  feature_extractor_layer = hub.KerasLayer(model_url,\n",
        "                                           trainable=False, \n",
        "                                           name='feature_extraction_layer',\n",
        "                                           input_shape=IMAGE_SHAPE+(3,)) \n",
        "  \n",
        "  # Creation de notre propre modèle\n",
        "  model = tf.keras.Sequential([\n",
        "    feature_extractor_layer, \n",
        "    layers.Dense(num_classes, activation='softmax', name='output_layer') # creation de notre propre couche     \n",
        "  ])\n",
        "\n",
        "  return model"
      ]
    },
    {
      "cell_type": "code",
      "execution_count": 9,
      "metadata": {
        "id": "3vvnjnPx9HKu"
      },
      "outputs": [],
      "source": [
        "resnet_model = create_model(resnet_url, num_classes=train_data_10_percent.num_classes)\n",
        "\n",
        "\n",
        "resnet_model.compile(loss='categorical_crossentropy',\n",
        "                     optimizer=tf.keras.optimizers.Adam(),\n",
        "                     metrics=['accuracy'])"
      ]
    },
    {
      "cell_type": "code",
      "execution_count": 10,
      "metadata": {
        "colab": {
          "base_uri": "https://localhost:8080/"
        },
        "id": "m2rAWK3N_1h0",
        "outputId": "f305e8e3-7b28-4a3b-e1b8-f1027f488239"
      },
      "outputs": [
        {
          "output_type": "stream",
          "name": "stdout",
          "text": [
            "Sauvegarde fichiers log dans: tensorflow_hub/resnet50V2/20230104-153511\n",
            "Epoch 1/5\n",
            "24/24 [==============================] - 30s 764ms/step - loss: 1.7445 - accuracy: 0.3973 - val_loss: 1.0957 - val_accuracy: 0.6672\n",
            "Epoch 2/5\n",
            "24/24 [==============================] - 16s 692ms/step - loss: 0.8403 - accuracy: 0.7373 - val_loss: 0.8303 - val_accuracy: 0.7360\n",
            "Epoch 3/5\n",
            "24/24 [==============================] - 17s 728ms/step - loss: 0.5891 - accuracy: 0.8347 - val_loss: 0.7276 - val_accuracy: 0.7616\n",
            "Epoch 4/5\n",
            "24/24 [==============================] - 24s 1s/step - loss: 0.4485 - accuracy: 0.8787 - val_loss: 0.6922 - val_accuracy: 0.7700\n",
            "Epoch 5/5\n",
            "24/24 [==============================] - 16s 685ms/step - loss: 0.3613 - accuracy: 0.9213 - val_loss: 0.6614 - val_accuracy: 0.7848\n"
          ]
        }
      ],
      "source": [
        "resnet_history = resnet_model.fit(train_data_10_percent,\n",
        "                                  epochs=5,\n",
        "                                  steps_per_epoch=len(train_data_10_percent),\n",
        "                                  validation_data=test_data,\n",
        "                                  validation_steps=len(test_data),\n",
        "                                  # Add TensorBoard callback to model (callbacks parameter takes a list)\n",
        "                                  callbacks=[create_tensorboard_callback(dir_name=\"tensorflow_hub\", # save experiment logs here\n",
        "                                                                         experiment_name=\"resnet50V2\")]) # name of log files"
      ]
    },
    {
      "cell_type": "code",
      "execution_count": 11,
      "metadata": {
        "id": "fE5qTJoSI3TA"
      },
      "outputs": [],
      "source": [
        "import matplotlib.pyplot as plt\n",
        "\n",
        "\n",
        "def plot_loss_curves(history):\n",
        "  \n",
        "  loss = history.history['loss']\n",
        "  val_loss = history.history['val_loss']\n",
        "\n",
        "  accuracy = history.history['accuracy']\n",
        "  val_accuracy = history.history['val_accuracy']\n",
        "\n",
        "  epochs = range(len(history.history['loss']))\n",
        "\n",
        "  \n",
        "  # Plot loss\n",
        "  plt.plot(epochs, loss, label='training_loss')\n",
        "  plt.plot(epochs, val_loss, label='val_loss')\n",
        "  plt.title('Perte')\n",
        "  plt.xlabel('Epochs')\n",
        "  plt.legend()\n",
        "\n",
        "  # Plot accuracy\n",
        "  plt.figure()\n",
        "  plt.plot(epochs, accuracy, label='training_accuracy')\n",
        "  plt.plot(epochs, val_accuracy, label='val_accuracy')\n",
        "  plt.title('Précision')\n",
        "  plt.xlabel('Epochs')\n",
        "  plt.legend();\n"
      ]
    },
    {
      "cell_type": "code",
      "execution_count": 12,
      "metadata": {
        "colab": {
          "base_uri": "https://localhost:8080/",
          "height": 573
        },
        "id": "DUO4NqJOSqOR",
        "outputId": "83022192-9bc2-4a9a-d55f-3680089b932a"
      },
      "outputs": [
        {
          "output_type": "display_data",
          "data": {
            "text/plain": [
              "<Figure size 432x288 with 1 Axes>"
            ],
            "image/png": "[encoded data removed]"
          },
          "metadata": {
            "needs_background": "light"
          }
        },
        {
          "output_type": "display_data",
          "data": {
            "text/plain": [
              "<Figure size 432x288 with 1 Axes>"
            ],
            "image/png": "[encoded data removed]"
          },
          "metadata": {
            "needs_background": "light"
          }
        }
      ],
      "source": [
        "plot_loss_curves(resnet_history)"
      ]
    },
    {
      "cell_type": "code",
      "execution_count": 13,
      "metadata": {
        "colab": {
          "base_uri": "https://localhost:8080/"
        },
        "id": "ApZjIWs_S2lt",
        "outputId": "2441d994-5410-4f12-e07f-5fe62fc59dfe"
      },
      "outputs": [
        {
          "output_type": "stream",
          "name": "stdout",
          "text": [
            "Model: \"sequential\"\n",
            "_________________________________________________________________\n",
            " Layer (type)                Output Shape              Param #   \n",
            "=================================================================\n",
            " feature_extraction_layer (K  (None, 2048)             23564800  \n",
            " erasLayer)                                                      \n",
            "                                                                 \n",
            " output_layer (Dense)        (None, 10)                20490     \n",
            "                                                                 \n",
            "=================================================================\n",
            "Total params: 23,585,290\n",
            "Trainable params: 20,490\n",
            "Non-trainable params: 23,564,800\n",
            "_________________________________________________________________\n"
          ]
        }
      ],
      "source": [
        "resnet_model.summary()"
      ]
    },
    {
      "cell_type": "markdown",
      "metadata": {
        "id": "-iIqdI6PXgNd"
      },
      "source": [
        "Faisons de même pour le modèle EfficientNet"
      ]
    },
    {
      "cell_type": "code",
      "execution_count": 14,
      "metadata": {
        "colab": {
          "base_uri": "https://localhost:8080/"
        },
        "id": "4hDcTRDoY1q5",
        "outputId": "25f49446-5f0b-4a78-e100-0c984cd4cb69"
      },
      "outputs": [
        {
          "output_type": "stream",
          "name": "stdout",
          "text": [
            "Sauvegarde fichiers log dans: tensorflow_hub/efficientnetB0/20230104-153704\n",
            "Epoch 1/5\n",
            "24/24 [==============================] - 25s 722ms/step - loss: 1.8507 - accuracy: 0.4400 - val_loss: 1.3035 - val_accuracy: 0.7248\n",
            "Epoch 2/5\n",
            "24/24 [==============================] - 24s 1s/step - loss: 1.0667 - accuracy: 0.7653 - val_loss: 0.8681 - val_accuracy: 0.8244\n",
            "Epoch 3/5\n",
            "24/24 [==============================] - 15s 651ms/step - loss: 0.7659 - accuracy: 0.8333 - val_loss: 0.7002 - val_accuracy: 0.8460\n",
            "Epoch 4/5\n",
            "24/24 [==============================] - 15s 660ms/step - loss: 0.6131 - accuracy: 0.8667 - val_loss: 0.6108 - val_accuracy: 0.8568\n",
            "Epoch 5/5\n",
            "24/24 [==============================] - 15s 658ms/step - loss: 0.5219 - accuracy: 0.8773 - val_loss: 0.5575 - val_accuracy: 0.8628\n"
          ]
        }
      ],
      "source": [
        "efficientnet_model = create_model(efficientnet_url, num_classes=train_data_10_percent.num_classes)\n",
        "\n",
        "efficientnet_model.compile(\n",
        "    loss=tf.keras.losses.CategoricalCrossentropy(),\n",
        "    optimizer=tf.keras.optimizers.Adam(),\n",
        "    metrics=[\"accuracy\"]\n",
        ")\n",
        "\n",
        "efficientnet_history = efficientnet_model.fit(\n",
        "    train_data_10_percent,\n",
        "    epochs=5,\n",
        "    steps_per_epoch=len(train_data_10_percent),\n",
        "    validation_data=test_data,\n",
        "    validation_steps=len(test_data),\n",
        "    callbacks=[create_tensorboard_callback(dir_name=\"tensorflow_hub\", experiment_name=\"efficientnetB0\")]\n",
        ")"
      ]
    },
    {
      "cell_type": "code",
      "execution_count": 15,
      "metadata": {
        "colab": {
          "base_uri": "https://localhost:8080/",
          "height": 573
        },
        "id": "9joBetgThOMJ",
        "outputId": "de84f0d8-4156-48f8-b825-be4bb59751b2"
      },
      "outputs": [
        {
          "output_type": "display_data",
          "data": {
            "text/plain": [
              "<Figure size 432x288 with 1 Axes>"
            ],
            "image/png": "[encoded data removed]"
          },
          "metadata": {
            "needs_background": "light"
          }
        },
        {
          "output_type": "display_data",
          "data": {
            "text/plain": [
              "<Figure size 432x288 with 1 Axes>"
            ],
            "image/png": "[encoded data removed]"
          },
          "metadata": {
            "needs_background": "light"
          }
        }
      ],
      "source": [
        "plot_loss_curves(efficientnet_history)"
      ]
    },
    {
      "cell_type": "markdown",
      "metadata": {
        "id": "-hrDFSM4i8N8"
      },
      "source": [
        "D'après les courbes de perte du modèle EfficientNetB0, il semble que si nous continuions à entraîner notre modèle plus longtemps, il pourrait s'améliorer encore plus."
      ]
    },
    {
      "cell_type": "code",
      "execution_count": 16,
      "metadata": {
        "colab": {
          "base_uri": "https://localhost:8080/"
        },
        "id": "7scZnkQvk8pK",
        "outputId": "fa0880a5-09ee-43d0-f2dd-c7fe9c02e904"
      },
      "outputs": [
        {
          "output_type": "stream",
          "name": "stdout",
          "text": [
            "Model: \"sequential_1\"\n",
            "_________________________________________________________________\n",
            " Layer (type)                Output Shape              Param #   \n",
            "=================================================================\n",
            " feature_extraction_layer (K  (None, 1280)             4049564   \n",
            " erasLayer)                                                      \n",
            "                                                                 \n",
            " output_layer (Dense)        (None, 10)                12810     \n",
            "                                                                 \n",
            "=================================================================\n",
            "Total params: 4,062,374\n",
            "Trainable params: 12,810\n",
            "Non-trainable params: 4,049,564\n",
            "_________________________________________________________________\n"
          ]
        }
      ],
      "source": [
        "# Regardons le résumé\n",
        "efficientnet_model.summary()"
      ]
    },
    {
      "cell_type": "markdown",
      "metadata": {
        "id": "qmckIgPolKq-"
      },
      "source": [
        "\n",
        "## Comparaison des modèles à l'aide de TensorBoard\n",
        "\n",
        "Le téléchargement des résultats sur TensorBoard.dev permet de suivre et de partager plusieurs expériences de modélisation différentes. Ainsi, si on doit montrer les résultats à quelqu'un, on peut lui envoyer un lien vers notre TensorBoard.dev ainsi que le cahier Colab qui l'accompagne."
      ]
    },
    {
      "cell_type": "markdown",
      "metadata": {
        "id": "DtOvJweym6HY"
      },
      "source": [
        "### Téléchargement d'expériences vers TensorBoard\n",
        "Pour télécharger une série de journaux TensorFlow vers TensorBoard, nous pouvons utiliser la commande suivante :\n",
        "\n",
        "Télécharger les enregistrements de TensorBoard dev\n",
        "```python\n",
        "  !tensorboard dev upload --logdir ./tensorflow_hub/ \\\n",
        "    --name \"EfficientNetB0 vs. ResNet50V2\" \\ \n",
        "    --description \"Comparaison de deux architectures différentes de modèles d'extraction de caractéristiques du Hub TF en utilisant 10% des images d'entraînement\" \\ \n",
        "    --une_image\n",
        "```\n",
        "Où :\n",
        "\n",
        "- logdir est le répertoire de téléchargement cible\n",
        "- name est le nom de l'expérience\n",
        "- description est une brève description de l'expérience\n",
        "- one_shot quitte l'uploader TensorBoard une fois le téléchargement terminé.\n",
        "\n"
      ]
    },
    {
      "cell_type": "code",
      "execution_count": 17,
      "metadata": {
        "colab": {
          "base_uri": "https://localhost:8080/"
        },
        "id": "V3Mhaye6QTBm",
        "outputId": "aaba678b-efb4-41ae-f13b-dfa3995a2709"
      },
      "outputs": [
        {
          "output_type": "stream",
          "name": "stdout",
          "text": [
            "\n",
            "***** TensorBoard Uploader *****\n",
            "\n",
            "This will upload your TensorBoard logs to https://tensorboard.dev/ from\n",
            "the following directory:\n",
            "\n",
            "./tensorflow_hub/\n",
            "\n",
            "This TensorBoard will be visible to everyone. Do not upload sensitive\n",
            "data.\n",
            "\n",
            "Your use of this service is subject to Google's Terms of Service\n",
            "<https://policies.google.com/terms> and Privacy Policy\n",
            "<https://policies.google.com/privacy>, and TensorBoard.dev's Terms of Service\n",
            "<https://tensorboard.dev/policy/terms/>.\n",
            "\n",
            "This notice will not be shown again while you are logged into the uploader.\n",
            "To log out, run `tensorboard dev auth revoke`.\n",
            "\n",
            "Continue? (yes/NO) yes\n",
            "\n",
            "Please visit this URL to authorize this application: https://accounts.google.com/o/oauth2/auth?response_type=code&client_id=373649185512-8v619h5kft38l4456nm2dj4ubeqsrvh6.apps.googleusercontent.com&redirect_uri=urn%3Aietf%3Awg%3Aoauth%3A2.0%3Aoob&scope=openid+https%3A%2F%2Fwww.googleapis.com%2Fauth%2Fuserinfo.email&state=kyctPA7qyooBEm1luyOR2jXOQ6vrG0&prompt=consent&access_type=offline\n",
            "Enter the authorization code: 4/1AWgavdc1uPr3N_J-3uHsT4r_-QSdqK7A9aYxVQNsTjaJuZD0ZpVze2nLTes\n",
            "\n",
            "\n",
            "New experiment created. View your TensorBoard at: https://tensorboard.dev/experiment/b5HyBf1PQwGWJDTmvwOvfw/\n",
            "\n",
            "\u001b[1m[2023-01-04T15:46:45]\u001b[0m Started scanning logdir.\n",
            "\u001b[1m[2023-01-04T15:46:47]\u001b[0m Total uploaded: 60 scalars, 0 tensors, 2 binary objects (5.6 MB)\n",
            "\u001b[1m[2023-01-04T15:46:47]\u001b[0m Done scanning logdir.\n",
            "\n",
            "\n",
            "Done. View your TensorBoard at https://tensorboard.dev/experiment/b5HyBf1PQwGWJDTmvwOvfw/\n"
          ]
        }
      ],
      "source": [
        "!tensorboard dev upload --logdir ./tensorflow_hub/ \\\n",
        "  --name \"EfficientNetB0 vs. ResNet50V2\" \\\n",
        "  --description \"Comparaison de deux architectures différentes de modèles d'extraction de caractéristiques du Hub TF en utilisant 10% des images d'entraînement\" \\\n",
        "  --one_shot"
      ]
    },
    {
      "cell_type": "code",
      "execution_count": 18,
      "metadata": {
        "id": "EnCJBuSbSFGR",
        "colab": {
          "base_uri": "https://localhost:8080/"
        },
        "outputId": "5881a927-f1da-4955-9677-9486b28e7ed4"
      },
      "outputs": [
        {
          "output_type": "stream",
          "name": "stdout",
          "text": [
            "https://tensorboard.dev/experiment/b5HyBf1PQwGWJDTmvwOvfw/\n",
            "\tName                 EfficientNetB0 vs. ResNet50V2\n",
            "\tDescription          Comparaison de deux architectures différentes de modèles d'extraction de caractéristiques du Hub TF en utilisant 10% des images d'entraînement\n",
            "\tId                   b5HyBf1PQwGWJDTmvwOvfw\n",
            "\tCreated              2023-01-04 15:46:45 (6 seconds ago)\n",
            "\tUpdated              2023-01-04 15:46:47 (just now)\n",
            "\tRuns                 4\n",
            "\tTags                 5\n",
            "\tScalars              60\n",
            "\tTensor bytes         0\n",
            "\tBinary object bytes  5918466\n",
            "https://tensorboard.dev/experiment/xIdbkq1YSJGI5bQJnKKI3g/\n",
            "\tName                 EfficientNetB0 vs. ResNet50V2\n",
            "\tDescription          Comparaison de deux architectures différentes de modèles d'extraction de caractéristiques du Hub TF en utilisant 10% des images d'entraînement\n",
            "\tId                   xIdbkq1YSJGI5bQJnKKI3g\n",
            "\tCreated              2023-01-03 20:21:46 (19 hours ago)\n",
            "\tUpdated              2023-01-03 20:21:48 (19 hours ago)\n",
            "\tRuns                 4\n",
            "\tTags                 5\n",
            "\tScalars              60\n",
            "\tTensor bytes         0\n",
            "\tBinary object bytes  5918466\n",
            "Total: 2 experiment(s)\n"
          ]
        }
      ],
      "source": [
        "!tensorboard dev list"
      ]
    },
    {
      "cell_type": "markdown",
      "metadata": {
        "id": "vk81xbZNUAts"
      },
      "source": [
        "## **Deuxième Partie :** Ajustement Fin\n",
        "\n",
        "=> Consiste à prendre les poids du modèle préentrainé et de les adapter au problème . Cela signifie généralement l'entrainement de nombreuses ou de toutes les couches du modèle préentrainé. D'où il est utile lorsqu'on dispose d'un grand ensemble de données et ces dernières sont légèrement différentes de celles sur lesquelles le modèle préentrainé a été formé. <br/>\n",
        "\n",
        "**NB** : ***Transfer Learning par extraction de caractéristiques vs Transfer Learning par réglage fin***: <br/>\n",
        "La principale différence entre les deux est qu'en cas d'ajustement fin, davantage de couches du modèle pré-entraîné sont dégelées et ajustées sur des données personnalisées. Ce réglage fin nécessite généralement plus de données que l'extraction de caractéristiques pour être efficace.\n",
        "\n",
        "\n",
        "\n"
      ]
    },
    {
      "cell_type": "code",
      "execution_count": 18,
      "metadata": {
        "id": "i0xjZVzEk_PI"
      },
      "outputs": [],
      "source": []
    }
  ],
  "metadata": {
    "colab": {
      "provenance": [],
      "authorship_tag": "ABX9TyMQRtUH5nCF7UPhp5q0jrfK",
      "include_colab_link": true
    },
    "gpuClass": "standard",
    "kernelspec": {
      "display_name": "Python 3",
      "name": "python3"
    },
    "language_info": {
      "name": "python"
    },
    "accelerator": "GPU"
  },
  "nbformat": 4,
  "nbformat_minor": 0
}