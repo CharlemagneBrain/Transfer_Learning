{
  "cells": [
    {
      "cell_type": "markdown",
      "metadata": {
        "id": "view-in-github",
        "colab_type": "text"
      },
      "source": [
        "<a href=\"https://colab.research.google.com/github/CharlemagneBrain/Transfer_Learning/blob/main/Transfer_Learning_FE_FT_SU.ipynb\" target=\"_parent\"><img src=\"https://colab.research.google.com/assets/colab-badge.svg\" alt=\"Open In Colab\"/></a>"
      ]
    },
    {
      "cell_type": "markdown",
      "metadata": {
        "id": "8pX_Q0SzQLn9"
      },
      "source": [
        "## **Première partie**: Extraction de caractéristiques ⚒\n",
        "\n",
        "=> Consiste à prendre les poids sous jacents qu'un modèle préentrainé a appris et à ajuster ses sorties pour qu'elles plus adaptées à notre problème.\n",
        "\n",
        "### Téléchargeons nos données "
      ]
    },
    {
      "cell_type": "code",
      "execution_count": null,
      "metadata": {
        "colab": {
          "base_uri": "https://localhost:8080/"
        },
        "id": "Cw0GcbJzSl83",
        "outputId": "8ed0a155-8433-4048-c897-47736c9fd1dd"
      },
      "outputs": [
        {
          "output_type": "stream",
          "name": "stdout",
          "text": [
            "--2023-01-08 11:27:06--  https://storage.googleapis.com/ztm_tf_course/food_vision/10_food_classes_10_percent.zip\n",
            "Resolving storage.googleapis.com (storage.googleapis.com)... 172.253.123.128, 142.251.107.128, 74.125.196.128, ...\n",
            "Connecting to storage.googleapis.com (storage.googleapis.com)|172.253.123.128|:443... connected.\n",
            "HTTP request sent, awaiting response... 200 OK\n",
            "Length: 168546183 (161M) [application/zip]\n",
            "Saving to: ‘10_food_classes_10_percent.zip’\n",
            "\n",
            "10_food_classes_10_ 100%[===================>] 160.74M   109MB/s    in 1.5s    \n",
            "\n",
            "2023-01-08 11:27:08 (109 MB/s) - ‘10_food_classes_10_percent.zip’ saved [168546183/168546183]\n",
            "\n"
          ]
        }
      ],
      "source": [
        "import zipfile\n",
        "import os\n",
        "\n",
        "!wget https://storage.googleapis.com/ztm_tf_course/food_vision/10_food_classes_10_percent.zip\n",
        "\n",
        "zip_ref = zipfile.ZipFile(\"10_food_classes_10_percent.zip\", \"r\")\n",
        "zip_ref.extractall()\n",
        "zip_ref.close()"
      ]
    },
    {
      "cell_type": "markdown",
      "metadata": {
        "id": "ZVnA-VctBYRO"
      },
      "source": [
        "### Combien d'images par dossiers avons nous ?"
      ]
    },
    {
      "cell_type": "code",
      "execution_count": null,
      "metadata": {
        "colab": {
          "base_uri": "https://localhost:8080/"
        },
        "id": "wS045uR7TgZL",
        "outputId": "5584f473-b092-4a99-d3f8-373acf1a52c4"
      },
      "outputs": [
        {
          "output_type": "stream",
          "name": "stdout",
          "text": [
            "Il y a 2 dossiers et 0 images dans 10_food_classes_10_percent/ \n",
            "Il y a 10 dossiers et 0 images dans 10_food_classes_10_percent/train \n",
            "Il y a 0 dossiers et 75 images dans 10_food_classes_10_percent/train/fried_rice \n",
            "Il y a 0 dossiers et 75 images dans 10_food_classes_10_percent/train/pizza \n",
            "Il y a 0 dossiers et 75 images dans 10_food_classes_10_percent/train/chicken_wings \n",
            "Il y a 0 dossiers et 75 images dans 10_food_classes_10_percent/train/ice_cream \n",
            "Il y a 0 dossiers et 75 images dans 10_food_classes_10_percent/train/steak \n",
            "Il y a 0 dossiers et 75 images dans 10_food_classes_10_percent/train/sushi \n",
            "Il y a 0 dossiers et 75 images dans 10_food_classes_10_percent/train/hamburger \n",
            "Il y a 0 dossiers et 75 images dans 10_food_classes_10_percent/train/ramen \n",
            "Il y a 0 dossiers et 75 images dans 10_food_classes_10_percent/train/grilled_salmon \n",
            "Il y a 0 dossiers et 75 images dans 10_food_classes_10_percent/train/chicken_curry \n",
            "Il y a 10 dossiers et 0 images dans 10_food_classes_10_percent/test \n",
            "Il y a 0 dossiers et 250 images dans 10_food_classes_10_percent/test/fried_rice \n",
            "Il y a 0 dossiers et 250 images dans 10_food_classes_10_percent/test/pizza \n",
            "Il y a 0 dossiers et 250 images dans 10_food_classes_10_percent/test/chicken_wings \n",
            "Il y a 0 dossiers et 250 images dans 10_food_classes_10_percent/test/ice_cream \n",
            "Il y a 0 dossiers et 250 images dans 10_food_classes_10_percent/test/steak \n",
            "Il y a 0 dossiers et 250 images dans 10_food_classes_10_percent/test/sushi \n",
            "Il y a 0 dossiers et 250 images dans 10_food_classes_10_percent/test/hamburger \n",
            "Il y a 0 dossiers et 250 images dans 10_food_classes_10_percent/test/ramen \n",
            "Il y a 0 dossiers et 250 images dans 10_food_classes_10_percent/test/grilled_salmon \n",
            "Il y a 0 dossiers et 250 images dans 10_food_classes_10_percent/test/chicken_curry \n"
          ]
        }
      ],
      "source": [
        "for dirpath, dirnames, filenames in os.walk(\"10_food_classes_10_percent/\"):\n",
        "  print(f\"Il y a {len(dirnames)} dossiers et {len(filenames)} images dans {dirpath} \")"
      ]
    },
    {
      "cell_type": "code",
      "execution_count": null,
      "metadata": {
        "id": "wf_L5b71XpFe"
      },
      "outputs": [],
      "source": [
        "import tensorflow as tf\n",
        "from tensorflow.keras.preprocessing.image import ImageDataGenerator"
      ]
    },
    {
      "cell_type": "markdown",
      "metadata": {
        "id": "Bpxoic8bBq65"
      },
      "source": [
        "Le paramètre rescale, ainsi que 1/255, revient à dire \"divisez toutes les valeurs des pixels par 255\". \n",
        "Ainsi, toutes les images sont importées et leurs valeurs de pixels sont normalisées (converties pour être comprises entre 0 et 1)."
      ]
    },
    {
      "cell_type": "code",
      "execution_count": null,
      "metadata": {
        "colab": {
          "base_uri": "https://localhost:8080/"
        },
        "id": "BFiZbBhSYXTa",
        "outputId": "f3fa3a33-080c-4803-a55f-ab7d1432d267"
      },
      "outputs": [
        {
          "output_type": "stream",
          "name": "stdout",
          "text": [
            "Entrainement:\n",
            "Found 750 images belonging to 10 classes.\n",
            "Test:\n",
            "Found 2500 images belonging to 10 classes.\n"
          ]
        }
      ],
      "source": [
        "IMAGE_SHAPE = (224, 224)\n",
        "BATCH_SIZE = 32\n",
        "\n",
        "train_dir = \"10_food_classes_10_percent/train/\"\n",
        "test_dir = \"10_food_classes_10_percent/test/\"\n",
        "\n",
        "train_datagen = ImageDataGenerator(rescale=1/255.)\n",
        "test_datagen = ImageDataGenerator(rescale=1/255.)\n",
        "\n",
        "print(\"Entrainement:\")\n",
        "train_data_10_percent = train_datagen.flow_from_directory(train_dir,\n",
        "                                               target_size=IMAGE_SHAPE,\n",
        "                                               batch_size=BATCH_SIZE,\n",
        "                                               class_mode=\"categorical\")\n",
        "\n",
        "print(\"Test:\")\n",
        "test_data = train_datagen.flow_from_directory(test_dir,\n",
        "                                              target_size=IMAGE_SHAPE,\n",
        "                                              batch_size=BATCH_SIZE,\n",
        "                                              class_mode=\"categorical\")"
      ]
    },
    {
      "cell_type": "markdown",
      "metadata": {
        "id": "rVnYwQz-iWMw"
      },
      "source": [
        "### Création d'un callback TensorBoard\n",
        "\n",
        "Les callbacks 🆕 sont des fonctionnalités supplémentaires que l'on peut ajouter à vos modèles et qui seront exécutées pendant ou après la formation. Voici quelques-uns des callbacks les plus populaires :\n",
        "\n",
        "- ⛓ Suivi des expériences avec TensorBoard (Experiment tracking with TensorBoard):  enregistrer les performances de plusieurs modèles, puis visualiser et comparer ces modèles de manière visuelle sur TensorBoard (un tableau de bord pour inspecter les paramètres des réseaux neuronaux). Utile pour comparer les résultats de différents modèles sur vos données.\n",
        "\n",
        "- 🎛 Point de contrôle du modèle(Model checkpointing) : enregistrer notre modèle au fur et à mesure qu'il s'entraîne afin de pouvoir interrompre l'entraînement si nécessaire et revenir pour reprendre là où nous en étions. Utile si la formation prend beaucoup de temps et ne peut pas être effectuée en une seule séance.\n",
        "\n",
        "- 🛑 Arrêt anticipé (Early stopping) :  laisser notre modèle s'entraîner pendant une durée arbitraire et faire en sorte qu'il s'arrête automatiquement lorsqu'il ne s'améliore plus. Cette option est utile lorsque nous disposons d'un grand ensemble de données et que nous ne savons pas combien de temps la formation prendra.\n",
        "\n",
        "On peut accéder à la fonction de rappel TensorBoard en utilisant `tf.keras.callbacks.TensorBoard()`.\n",
        "\n",
        "Sa principale fonctionnalité est l'enregistrement des mesures de performance de la formation d'un modèle dans un répertoire log_dir spécifié.\n",
        "\n",
        "💡 Par défaut, les journaux sont enregistrés toutes les époques en utilisant le paramètre `update_freq='epoch'`. Il s'agit d'une bonne valeur par défaut, car le suivi des performances du modèle trop souvent peut ralentir la formation du modèle.\n",
        "\n",
        "\n",
        "🔑 Remarque : nous créons une fonction pour créer une callback TensorBoard car, comme nous le verrons plus tard, chaque modèle a besoin de sa propre instance de callback TensorBoard (la fonction en créera donc une nouvelle à chaque exécution).\n",
        "\n"
      ]
    },
    {
      "cell_type": "markdown",
      "metadata": {
        "id": "EvG_fBXeB-RT"
      },
      "source": [
        "dirname = répertoire général des journaux\n",
        "experiment_name = nom de l'expérience \n",
        "\n",
        "Par exemple, si dirname est \"logs\" et experiment_name est \"exp1\", log_dir pourrait être \"logs/exp1/20210301-124532\"."
      ]
    },
    {
      "cell_type": "code",
      "execution_count": null,
      "metadata": {
        "id": "E3SSjsURk52v"
      },
      "outputs": [],
      "source": [
        "import datetime\n",
        "def create_tensorboard_callback(dir_name, experiment_name):\n",
        "  log_dir = dir_name + \"/\" + experiment_name + \"/\" + datetime.datetime.now().strftime(\"%Y%m%d-%H%M%S\")\n",
        "  tensorboard_callback = tf.keras.callbacks.TensorBoard(\n",
        "      log_dir=log_dir\n",
        "  )\n",
        "  print(f\"Sauvegarde fichiers log dans: {log_dir}\")\n",
        "  return tensorboard_callback"
      ]
    },
    {
      "cell_type": "markdown",
      "metadata": {
        "id": "hlCMdQnCqSdL"
      },
      "source": [
        "### Création de model avec Tensorflow Hub"
      ]
    },
    {
      "cell_type": "code",
      "execution_count": null,
      "metadata": {
        "id": "OoAXw4gVq2Zi"
      },
      "outputs": [],
      "source": [
        "import tensorflow as tf\n",
        "import tensorflow_hub as hub\n",
        "from tensorflow.keras import layers"
      ]
    },
    {
      "cell_type": "markdown",
      "metadata": {
        "id": "daiNwgOnCZjp"
      },
      "source": [
        "Prend une URL de Hub TensorFlow et crée un modèle Keras Sequential avec celle-ci.\n",
        "  \n",
        "  Arguments :\n",
        "    model_url (str) : Une URL d'extraction de caractéristiques de TensorFlow Hub.\n",
        "    num_classes (int) : Nombre de neurones de sortie dans la couche de sortie,\n",
        "      doit être égal au nombre de classes cibles, par défaut 10.\n",
        "\n",
        "  Retourne :\n",
        "    Un modèle séquentiel Keras non compilé, avec model_url comme couche\n",
        "    extracteur de caractéristiques et une couche de sortie dense avec des sorties num_classes."
      ]
    },
    {
      "cell_type": "code",
      "execution_count": null,
      "metadata": {
        "id": "r_dHKpxPuQgm"
      },
      "outputs": [],
      "source": [
        "\n",
        "# Resnet 50 V2 feature vector\n",
        "resnet_url = \"https://tfhub.dev/google/imagenet/resnet_v2_50/feature_vector/4\"\n",
        "\n",
        "# Original: EfficientNetB0 feature vector (version 1)\n",
        "efficientnet_url = \"https://tfhub.dev/tensorflow/efficientnet/b0/feature-vector/1\""
      ]
    },
    {
      "cell_type": "code",
      "execution_count": null,
      "metadata": {
        "id": "SbQl-LdNCj6h"
      },
      "outputs": [],
      "source": [
        "def create_model(model_url, num_classes=10):\n",
        "  \n",
        "  # Modèle prétrainé\n",
        "  feature_extractor_layer = hub.KerasLayer(model_url,\n",
        "                                           trainable=False, \n",
        "                                           name='feature_extraction_layer',\n",
        "                                           input_shape=IMAGE_SHAPE+(3,)) \n",
        "  \n",
        "  # Creation de notre propre modèle\n",
        "  model = tf.keras.Sequential([\n",
        "    feature_extractor_layer, \n",
        "    layers.Dense(num_classes, activation='softmax', name='output_layer') # creation de notre propre couche     \n",
        "  ])\n",
        "\n",
        "  return model"
      ]
    },
    {
      "cell_type": "code",
      "execution_count": null,
      "metadata": {
        "id": "3vvnjnPx9HKu"
      },
      "outputs": [],
      "source": [
        "resnet_model = create_model(resnet_url, num_classes=train_data_10_percent.num_classes)\n",
        "\n",
        "\n",
        "resnet_model.compile(loss='categorical_crossentropy',\n",
        "                     optimizer=tf.keras.optimizers.Adam(),\n",
        "                     metrics=['accuracy'])"
      ]
    },
    {
      "cell_type": "code",
      "execution_count": null,
      "metadata": {
        "colab": {
          "base_uri": "https://localhost:8080/"
        },
        "id": "m2rAWK3N_1h0",
        "outputId": "216c726d-9173-4a6b-bcb0-2408c1a7f183"
      },
      "outputs": [
        {
          "output_type": "stream",
          "name": "stdout",
          "text": [
            "Sauvegarde fichiers log dans: tensorflow_hub/resnet50V2/20230108-112723\n",
            "Epoch 1/5\n",
            "24/24 [==============================] - 30s 777ms/step - loss: 2.0117 - accuracy: 0.3280 - val_loss: 1.2119 - val_accuracy: 0.6240\n",
            "Epoch 2/5\n",
            "24/24 [==============================] - 16s 697ms/step - loss: 0.9395 - accuracy: 0.7307 - val_loss: 0.8449 - val_accuracy: 0.7288\n",
            "Epoch 3/5\n",
            "24/24 [==============================] - 17s 733ms/step - loss: 0.6472 - accuracy: 0.8200 - val_loss: 0.7400 - val_accuracy: 0.7672\n",
            "Epoch 4/5\n",
            "24/24 [==============================] - 16s 695ms/step - loss: 0.4918 - accuracy: 0.8720 - val_loss: 0.7121 - val_accuracy: 0.7724\n",
            "Epoch 5/5\n",
            "24/24 [==============================] - 16s 708ms/step - loss: 0.3993 - accuracy: 0.8933 - val_loss: 0.6788 - val_accuracy: 0.7788\n"
          ]
        }
      ],
      "source": [
        "resnet_history = resnet_model.fit(train_data_10_percent,\n",
        "                                  epochs=5,\n",
        "                                  steps_per_epoch=len(train_data_10_percent),\n",
        "                                  validation_data=test_data,\n",
        "                                  validation_steps=len(test_data),\n",
        "                                  # Add TensorBoard callback to model (callbacks parameter takes a list)\n",
        "                                  callbacks=[create_tensorboard_callback(dir_name=\"tensorflow_hub\", # save experiment logs here\n",
        "                                                                         experiment_name=\"resnet50V2\")]) # name of log files"
      ]
    },
    {
      "cell_type": "code",
      "execution_count": null,
      "metadata": {
        "id": "fE5qTJoSI3TA"
      },
      "outputs": [],
      "source": [
        "import matplotlib.pyplot as plt\n",
        "\n",
        "\n",
        "def plot_loss_curves(history):\n",
        "  \n",
        "  loss = history.history['loss']\n",
        "  val_loss = history.history['val_loss']\n",
        "\n",
        "  accuracy = history.history['accuracy']\n",
        "  val_accuracy = history.history['val_accuracy']\n",
        "\n",
        "  epochs = range(len(history.history['loss']))\n",
        "\n",
        "  \n",
        "  # Plot loss\n",
        "  plt.plot(epochs, loss, label='training_loss')\n",
        "  plt.plot(epochs, val_loss, label='val_loss')\n",
        "  plt.title('Perte')\n",
        "  plt.xlabel('Epochs')\n",
        "  plt.legend()\n",
        "\n",
        "  # Plot accuracy\n",
        "  plt.figure()\n",
        "  plt.plot(epochs, accuracy, label='training_accuracy')\n",
        "  plt.plot(epochs, val_accuracy, label='val_accuracy')\n",
        "  plt.title('Précision')\n",
        "  plt.xlabel('Epochs')\n",
        "  plt.legend();\n"
      ]
    },
    {
      "cell_type": "code",
      "execution_count": null,
      "metadata": {
        "id": "DUO4NqJOSqOR",
        "colab": {
          "base_uri": "https://localhost:8080/",
          "height": 573
        },
        "outputId": "3a50b2e4-6128-462d-9e82-5c47e3f86615"
      },
      "outputs": [
        {
          "output_type": "display_data",
          "data": {
            "text/plain": [
              "<Figure size 432x288 with 1 Axes>"
            ],
            "image/png": "[encoded data removed]"
          },
          "metadata": {
            "needs_background": "light"
          }
        },
        {
          "output_type": "display_data",
          "data": {
            "text/plain": [
              "<Figure size 432x288 with 1 Axes>"
            ],
            "image/png": "[encoded data removed]"
          },
          "metadata": {
            "needs_background": "light"
          }
        }
      ],
      "source": [
        "plot_loss_curves(resnet_history)"
      ]
    },
    {
      "cell_type": "code",
      "execution_count": null,
      "metadata": {
        "id": "ApZjIWs_S2lt",
        "colab": {
          "base_uri": "https://localhost:8080/"
        },
        "outputId": "10671ec8-0686-4755-bff6-960f86d22a9c"
      },
      "outputs": [
        {
          "output_type": "stream",
          "name": "stdout",
          "text": [
            "Model: \"sequential\"\n",
            "_________________________________________________________________\n",
            " Layer (type)                Output Shape              Param #   \n",
            "=================================================================\n",
            " feature_extraction_layer (K  (None, 2048)             23564800  \n",
            " erasLayer)                                                      \n",
            "                                                                 \n",
            " output_layer (Dense)        (None, 10)                20490     \n",
            "                                                                 \n",
            "=================================================================\n",
            "Total params: 23,585,290\n",
            "Trainable params: 20,490\n",
            "Non-trainable params: 23,564,800\n",
            "_________________________________________________________________\n"
          ]
        }
      ],
      "source": [
        "resnet_model.summary()"
      ]
    },
    {
      "cell_type": "markdown",
      "metadata": {
        "id": "-iIqdI6PXgNd"
      },
      "source": [
        "Faisons de même pour le modèle EfficientNet"
      ]
    },
    {
      "cell_type": "code",
      "execution_count": null,
      "metadata": {
        "id": "4hDcTRDoY1q5",
        "colab": {
          "base_uri": "https://localhost:8080/"
        },
        "outputId": "736d7c73-237d-4f9c-a7aa-1c0905850366"
      },
      "outputs": [
        {
          "output_type": "stream",
          "name": "stdout",
          "text": [
            "Sauvegarde fichiers log dans: tensorflow_hub/efficientnetB0/20230108-112914\n",
            "Epoch 1/5\n",
            "24/24 [==============================] - 27s 747ms/step - loss: 1.8426 - accuracy: 0.4453 - val_loss: 1.2938 - val_accuracy: 0.7372\n",
            "Epoch 2/5\n",
            "24/24 [==============================] - 16s 681ms/step - loss: 1.0645 - accuracy: 0.7507 - val_loss: 0.8621 - val_accuracy: 0.8308\n",
            "Epoch 3/5\n",
            "24/24 [==============================] - 16s 674ms/step - loss: 0.7567 - accuracy: 0.8280 - val_loss: 0.6901 - val_accuracy: 0.8536\n",
            "Epoch 4/5\n",
            "24/24 [==============================] - 16s 679ms/step - loss: 0.6066 - accuracy: 0.8573 - val_loss: 0.6062 - val_accuracy: 0.8616\n",
            "Epoch 5/5\n",
            "24/24 [==============================] - 16s 688ms/step - loss: 0.5158 - accuracy: 0.8867 - val_loss: 0.5537 - val_accuracy: 0.8664\n"
          ]
        }
      ],
      "source": [
        "efficientnet_model = create_model(efficientnet_url, num_classes=train_data_10_percent.num_classes)\n",
        "\n",
        "efficientnet_model.compile(\n",
        "    loss=tf.keras.losses.CategoricalCrossentropy(),\n",
        "    optimizer=tf.keras.optimizers.Adam(),\n",
        "    metrics=[\"accuracy\"]\n",
        ")\n",
        "\n",
        "efficientnet_history = efficientnet_model.fit(\n",
        "    train_data_10_percent,\n",
        "    epochs=5,\n",
        "    steps_per_epoch=len(train_data_10_percent),\n",
        "    validation_data=test_data,\n",
        "    validation_steps=len(test_data),\n",
        "    callbacks=[create_tensorboard_callback(dir_name=\"tensorflow_hub\", experiment_name=\"efficientnetB0\")]\n",
        ")"
      ]
    },
    {
      "cell_type": "code",
      "execution_count": null,
      "metadata": {
        "id": "9joBetgThOMJ",
        "colab": {
          "base_uri": "https://localhost:8080/",
          "height": 573
        },
        "outputId": "fcfba27d-6be7-4222-8693-9638874bcda1"
      },
      "outputs": [
        {
          "output_type": "display_data",
          "data": {
            "text/plain": [
              "<Figure size 432x288 with 1 Axes>"
            ],
            "image/png": "[encoded data removed]"
          },
          "metadata": {
            "needs_background": "light"
          }
        },
        {
          "output_type": "display_data",
          "data": {
            "text/plain": [
              "<Figure size 432x288 with 1 Axes>"
            ],
            "image/png": "[encoded data removed]"
          },
          "metadata": {
            "needs_background": "light"
          }
        }
      ],
      "source": [
        "plot_loss_curves(efficientnet_history)"
      ]
    },
    {
      "cell_type": "markdown",
      "metadata": {
        "id": "-hrDFSM4i8N8"
      },
      "source": [
        "D'après les courbes de perte du modèle EfficientNetB0, il semble que si nous continuions à entraîner notre modèle plus longtemps, il pourrait s'améliorer encore plus."
      ]
    },
    {
      "cell_type": "code",
      "execution_count": null,
      "metadata": {
        "id": "7scZnkQvk8pK",
        "colab": {
          "base_uri": "https://localhost:8080/"
        },
        "outputId": "c311fcd2-8dc0-4df8-fadd-cd5e7a957d04"
      },
      "outputs": [
        {
          "output_type": "stream",
          "name": "stdout",
          "text": [
            "Model: \"sequential_1\"\n",
            "_________________________________________________________________\n",
            " Layer (type)                Output Shape              Param #   \n",
            "=================================================================\n",
            " feature_extraction_layer (K  (None, 1280)             4049564   \n",
            " erasLayer)                                                      \n",
            "                                                                 \n",
            " output_layer (Dense)        (None, 10)                12810     \n",
            "                                                                 \n",
            "=================================================================\n",
            "Total params: 4,062,374\n",
            "Trainable params: 12,810\n",
            "Non-trainable params: 4,049,564\n",
            "_________________________________________________________________\n"
          ]
        }
      ],
      "source": [
        "# Regardons le résumé\n",
        "efficientnet_model.summary()"
      ]
    },
    {
      "cell_type": "markdown",
      "metadata": {
        "id": "qmckIgPolKq-"
      },
      "source": [
        "\n",
        "## Comparaison des modèles à l'aide de TensorBoard\n",
        "\n",
        "Le téléchargement des résultats sur TensorBoard.dev permet de suivre et de partager plusieurs expériences de modélisation différentes. Ainsi, si on doit montrer les résultats à quelqu'un, on peut lui envoyer un lien vers notre TensorBoard.dev ainsi que le cahier Colab qui l'accompagne."
      ]
    },
    {
      "cell_type": "markdown",
      "metadata": {
        "id": "DtOvJweym6HY"
      },
      "source": [
        "### Téléchargement d'expériences vers TensorBoard\n",
        "Pour télécharger une série de journaux TensorFlow vers TensorBoard, nous pouvons utiliser la commande suivante :\n",
        "\n",
        "Télécharger les enregistrements de TensorBoard dev\n",
        "```python\n",
        "  !tensorboard dev upload --logdir ./tensorflow_hub/ \\\n",
        "    --name \"EfficientNetB0 vs. ResNet50V2\" \\ \n",
        "    --description \"Comparaison de deux architectures différentes de modèles d'extraction de caractéristiques du Hub TF en utilisant 10% des images d'entraînement\" \\ \n",
        "    --une_image\n",
        "```\n",
        "Où :\n",
        "\n",
        "- logdir est le répertoire de téléchargement cible\n",
        "- name est le nom de l'expérience\n",
        "- description est une brève description de l'expérience\n",
        "- one_shot quitte l'uploader TensorBoard une fois le téléchargement terminé.\n",
        "\n"
      ]
    },
    {
      "cell_type": "code",
      "execution_count": null,
      "metadata": {
        "id": "V3Mhaye6QTBm",
        "colab": {
          "base_uri": "https://localhost:8080/"
        },
        "outputId": "f15c90af-b51d-4454-de45-83b16ad52d94"
      },
      "outputs": [
        {
          "output_type": "stream",
          "name": "stdout",
          "text": [
            "\n",
            "***** TensorBoard Uploader *****\n",
            "\n",
            "This will upload your TensorBoard logs to https://tensorboard.dev/ from\n",
            "the following directory:\n",
            "\n",
            "./tensorflow_hub/\n",
            "\n",
            "This TensorBoard will be visible to everyone. Do not upload sensitive\n",
            "data.\n",
            "\n",
            "Your use of this service is subject to Google's Terms of Service\n",
            "<https://policies.google.com/terms> and Privacy Policy\n",
            "<https://policies.google.com/privacy>, and TensorBoard.dev's Terms of Service\n",
            "<https://tensorboard.dev/policy/terms/>.\n",
            "\n",
            "This notice will not be shown again while you are logged into the uploader.\n",
            "To log out, run `tensorboard dev auth revoke`.\n",
            "\n",
            "Continue? (yes/NO) NO\n"
          ]
        }
      ],
      "source": [
        "!tensorboard dev upload --logdir ./tensorflow_hub/ \\\n",
        "  --name \"EfficientNetB0 vs. ResNet50V2\" \\\n",
        "  --description \"Comparaison de deux architectures différentes de modèles d'extraction de caractéristiques du Hub TF en utilisant 10% des images d'entraînement\" \\\n",
        "  --one_shot"
      ]
    },
    {
      "cell_type": "code",
      "execution_count": null,
      "metadata": {
        "id": "EnCJBuSbSFGR",
        "colab": {
          "base_uri": "https://localhost:8080/"
        },
        "outputId": "354e5718-8e9c-48c5-c11b-eedd41040d01"
      },
      "outputs": [
        {
          "output_type": "stream",
          "name": "stdout",
          "text": [
            "\n",
            "***** TensorBoard Uploader *****\n",
            "\n",
            "This will list all experiments that you've uploaded to\n",
            "https://tensorboard.dev. TensorBoard.dev experiments are visible\n",
            "to everyone. Do not upload sensitive data.\n",
            "\n",
            "Your use of this service is subject to Google's Terms of Service\n",
            "<https://policies.google.com/terms> and Privacy Policy\n",
            "<https://policies.google.com/privacy>, and TensorBoard.dev's Terms of Service\n",
            "<https://tensorboard.dev/policy/terms/>.\n",
            "\n",
            "This notice will not be shown again while you are logged into the uploader.\n",
            "To log out, run `tensorboard dev auth revoke`.\n",
            "\n",
            "Continue? (yes/NO) NO\n"
          ]
        }
      ],
      "source": [
        "!tensorboard dev list"
      ]
    },
    {
      "cell_type": "markdown",
      "metadata": {
        "id": "vk81xbZNUAts"
      },
      "source": [
        "## **Deuxième Partie :** Ajustement Fin\n",
        "\n",
        "=> Consiste à prendre les poids du modèle préentrainé et de les adapter au problème . Cela signifie généralement l'entrainement de nombreuses ou de toutes les couches du modèle préentrainé. D'où il est utile lorsqu'on dispose d'un grand ensemble de données, et que  ces dernières sont légèrement différentes de celles sur lesquelles le modèle préentrainé a été formé. <br/>\n",
        "\n",
        "**NB** : ***Transfer Learning par extraction de caractéristiques vs Transfer Learning par réglage fin***: <br/>\n",
        "La principale différence entre les deux est qu'en cas d'ajustement fin, davantage de couches du modèle pré-entraîné sont dégelées et ajustées sur des données personnalisées. Ce réglage fin nécessite généralement plus de données que l'extraction de caractéristiques pour être efficace. <br/> \n",
        "\n",
        "Nous allons importer des fonctions qui vont nous aider à aller plus vite vus que l'on vas les utiliser tout au lond du projet. Elles proviennent de la formation de deep learning de zero to mastery.\n",
        "\n",
        "\n",
        "\n"
      ]
    },
    {
      "cell_type": "code",
      "execution_count": null,
      "metadata": {
        "id": "i0xjZVzEk_PI",
        "colab": {
          "base_uri": "https://localhost:8080/"
        },
        "outputId": "85e044f5-837a-4581-b6dc-9c0b8a0fe822"
      },
      "outputs": [
        {
          "output_type": "stream",
          "name": "stdout",
          "text": [
            "--2023-01-08 11:32:47--  https://raw.githubusercontent.com/mrdbourke/tensorflow-deep-learning/main/extras/helper_functions.py\n",
            "Resolving raw.githubusercontent.com (raw.githubusercontent.com)... 185.199.108.133, 185.199.109.133, 185.199.110.133, ...\n",
            "Connecting to raw.githubusercontent.com (raw.githubusercontent.com)|185.199.108.133|:443... connected.\n",
            "HTTP request sent, awaiting response... 200 OK\n",
            "Length: 10246 (10K) [text/plain]\n",
            "Saving to: ‘helper_functions.py’\n",
            "\n",
            "\rhelper_functions.py   0%[                    ]       0  --.-KB/s               \rhelper_functions.py 100%[===================>]  10.01K  --.-KB/s    in 0s      \n",
            "\n",
            "2023-01-08 11:32:47 (88.2 MB/s) - ‘helper_functions.py’ saved [10246/10246]\n",
            "\n"
          ]
        }
      ],
      "source": [
        "!wget https://raw.githubusercontent.com/mrdbourke/tensorflow-deep-learning/main/extras/helper_functions.py "
      ]
    },
    {
      "cell_type": "code",
      "source": [
        "from helper_functions import create_tensorboard_callback, plot_loss_curves, unzip_data, walk_through_dir"
      ],
      "metadata": {
        "id": "cUWw3n7NlQcc"
      },
      "execution_count": null,
      "outputs": []
    },
    {
      "cell_type": "code",
      "source": [
        "!wget https://storage.googleapis.com/ztm_tf_course/food_vision/10_food_classes_10_percent.zip \n",
        "\n",
        "unzip_data(\"10_food_classes_10_percent.zip\")"
      ],
      "metadata": {
        "id": "eywEIUAflXqN",
        "colab": {
          "base_uri": "https://localhost:8080/"
        },
        "outputId": "2a62e68d-a76f-4963-b481-b3bfec2ace67"
      },
      "execution_count": null,
      "outputs": [
        {
          "output_type": "stream",
          "name": "stdout",
          "text": [
            "--2023-01-08 11:32:48--  https://storage.googleapis.com/ztm_tf_course/food_vision/10_food_classes_10_percent.zip\n",
            "Resolving storage.googleapis.com (storage.googleapis.com)... 173.194.216.128, 173.194.217.128, 108.177.11.128, ...\n",
            "Connecting to storage.googleapis.com (storage.googleapis.com)|173.194.216.128|:443... connected.\n",
            "HTTP request sent, awaiting response... 200 OK\n",
            "Length: 168546183 (161M) [application/zip]\n",
            "Saving to: ‘10_food_classes_10_percent.zip.1’\n",
            "\n",
            "10_food_classes_10_ 100%[===================>] 160.74M   183MB/s    in 0.9s    \n",
            "\n",
            "2023-01-08 11:32:49 (183 MB/s) - ‘10_food_classes_10_percent.zip.1’ saved [168546183/168546183]\n",
            "\n"
          ]
        }
      ]
    },
    {
      "cell_type": "code",
      "source": [
        "walk_through_dir(\"10_food_classes_10_percent\")"
      ],
      "metadata": {
        "id": "wYlNfDqyr3po",
        "colab": {
          "base_uri": "https://localhost:8080/"
        },
        "outputId": "9b7b56b1-8a7c-4ca9-b1b2-f1daa3f6e783"
      },
      "execution_count": null,
      "outputs": [
        {
          "output_type": "stream",
          "name": "stdout",
          "text": [
            "There are 2 directories and 0 images in '10_food_classes_10_percent'.\n",
            "There are 10 directories and 0 images in '10_food_classes_10_percent/train'.\n",
            "There are 0 directories and 75 images in '10_food_classes_10_percent/train/fried_rice'.\n",
            "There are 0 directories and 75 images in '10_food_classes_10_percent/train/pizza'.\n",
            "There are 0 directories and 75 images in '10_food_classes_10_percent/train/chicken_wings'.\n",
            "There are 0 directories and 75 images in '10_food_classes_10_percent/train/ice_cream'.\n",
            "There are 0 directories and 75 images in '10_food_classes_10_percent/train/steak'.\n",
            "There are 0 directories and 75 images in '10_food_classes_10_percent/train/sushi'.\n",
            "There are 0 directories and 75 images in '10_food_classes_10_percent/train/hamburger'.\n",
            "There are 0 directories and 75 images in '10_food_classes_10_percent/train/ramen'.\n",
            "There are 0 directories and 75 images in '10_food_classes_10_percent/train/grilled_salmon'.\n",
            "There are 0 directories and 75 images in '10_food_classes_10_percent/train/chicken_curry'.\n",
            "There are 10 directories and 0 images in '10_food_classes_10_percent/test'.\n",
            "There are 0 directories and 250 images in '10_food_classes_10_percent/test/fried_rice'.\n",
            "There are 0 directories and 250 images in '10_food_classes_10_percent/test/pizza'.\n",
            "There are 0 directories and 250 images in '10_food_classes_10_percent/test/chicken_wings'.\n",
            "There are 0 directories and 250 images in '10_food_classes_10_percent/test/ice_cream'.\n",
            "There are 0 directories and 250 images in '10_food_classes_10_percent/test/steak'.\n",
            "There are 0 directories and 250 images in '10_food_classes_10_percent/test/sushi'.\n",
            "There are 0 directories and 250 images in '10_food_classes_10_percent/test/hamburger'.\n",
            "There are 0 directories and 250 images in '10_food_classes_10_percent/test/ramen'.\n",
            "There are 0 directories and 250 images in '10_food_classes_10_percent/test/grilled_salmon'.\n",
            "There are 0 directories and 250 images in '10_food_classes_10_percent/test/chicken_curry'.\n"
          ]
        }
      ]
    },
    {
      "cell_type": "code",
      "source": [
        "train_dir = \"10_food_classes_10_percent/train\"\n",
        "test_dir = \"10_food_classes_10_percent/test\""
      ],
      "metadata": {
        "id": "HrqPjOJRuRkh"
      },
      "execution_count": null,
      "outputs": []
    },
    {
      "cell_type": "markdown",
      "source": [
        "Nous allons cette fois ci utiliser `tf.keras.preprocessing.image_dataset_from_directory()` qui fonctionne comme `flow_from_directory` de `ImageDataGenerator`. <br/>\n",
        "Le principal avantage de cette méthode est que l'API tf.data.Dataset est beaucoup plus efficace (plus rapide) que l'API ImageDataGenerator, ce qui est primordial pour les grands ensembles de données."
      ],
      "metadata": {
        "id": "vg5l-8NlvsA_"
      }
    },
    {
      "cell_type": "code",
      "source": [
        "IMG_SIZE = (224, 224)\n",
        "\n",
        "train_data_10_percent_ft = tf.keras.preprocessing.image_dataset_from_directory(\n",
        "    directory = train_dir,\n",
        "    image_size=IMG_SIZE,\n",
        "    label_mode = \"categorical\",\n",
        "    batch_size = 32\n",
        ")\n",
        "\n",
        "test_data_10_percent_ft = tf.keras.preprocessing.image_dataset_from_directory(\n",
        "    directory=test_dir,\n",
        "    image_size = IMG_SIZE,\n",
        "    label_mode=\"categorical\"\n",
        ")"
      ],
      "metadata": {
        "id": "AYpStHGdyuf1",
        "colab": {
          "base_uri": "https://localhost:8080/"
        },
        "outputId": "5536bf1b-de94-4ff2-a3e5-439595fd1232"
      },
      "execution_count": null,
      "outputs": [
        {
          "output_type": "stream",
          "name": "stdout",
          "text": [
            "Found 750 files belonging to 10 classes.\n",
            "Found 2500 files belonging to 10 classes.\n"
          ]
        }
      ]
    },
    {
      "cell_type": "code",
      "source": [
        "train_data_10_percent_ft"
      ],
      "metadata": {
        "id": "Bvb4g_Sg_1SY",
        "colab": {
          "base_uri": "https://localhost:8080/"
        },
        "outputId": "2d6fa236-5914-4159-edd0-dd27a828e199"
      },
      "execution_count": null,
      "outputs": [
        {
          "output_type": "execute_result",
          "data": {
            "text/plain": [
              "<BatchDataset element_spec=(TensorSpec(shape=(None, 224, 224, 3), dtype=tf.float32, name=None), TensorSpec(shape=(None, 10), dtype=tf.float32, name=None))>"
            ]
          },
          "metadata": {},
          "execution_count": 25
        }
      ]
    },
    {
      "cell_type": "code",
      "source": [
        "train_data_10_percent_ft.class_names"
      ],
      "metadata": {
        "id": "gtwbquomD4qv",
        "colab": {
          "base_uri": "https://localhost:8080/"
        },
        "outputId": "a934640d-cee6-45b3-9d0d-62184c816ef9"
      },
      "execution_count": null,
      "outputs": [
        {
          "output_type": "execute_result",
          "data": {
            "text/plain": [
              "['chicken_curry',\n",
              " 'chicken_wings',\n",
              " 'fried_rice',\n",
              " 'grilled_salmon',\n",
              " 'hamburger',\n",
              " 'ice_cream',\n",
              " 'pizza',\n",
              " 'ramen',\n",
              " 'steak',\n",
              " 'sushi']"
            ]
          },
          "metadata": {},
          "execution_count": 26
        }
      ]
    },
    {
      "cell_type": "code",
      "source": [
        "for image, label in train_data_10_percent_ft.take(1):\n",
        "  print(image, label)\n",
        "  print(image.shape)"
      ],
      "metadata": {
        "id": "oagW-pfpH5Dq",
        "colab": {
          "base_uri": "https://localhost:8080/"
        },
        "outputId": "c085753a-faeb-4179-c56d-48c83e2a4b69"
      },
      "execution_count": null,
      "outputs": [
        {
          "output_type": "stream",
          "name": "stdout",
          "text": [
            "tf.Tensor(\n",
            "[[[[ 34.571426    32.571426    35.571426  ]\n",
            "   [ 32.668365    30.668365    33.668365  ]\n",
            "   [ 24.          22.          25.        ]\n",
            "   ...\n",
            "   [ 12.137741    16.137741    19.137741  ]\n",
            "   [  8.81119     12.81119     15.81119   ]\n",
            "   [  5.999965     6.999965    10.999965  ]]\n",
            "\n",
            "  [[ 14.42857     12.42857     15.42857   ]\n",
            "   [ 12.499998    10.499998    13.499998  ]\n",
            "   [ 11.183673     9.183673    12.183673  ]\n",
            "   ...\n",
            "   [ 14.484652    15.484652    19.484652  ]\n",
            "   [  9.923455    10.923455    14.923455  ]\n",
            "   [  6.571394     7.571394    11.571394  ]]\n",
            "\n",
            "  [[ 12.          10.          15.        ]\n",
            "   [ 12.198979    10.198979    15.198979  ]\n",
            "   [ 13.          11.          16.        ]\n",
            "   ...\n",
            "   [ 14.596922    13.42855     18.42855   ]\n",
            "   [ 12.142844    10.928558    15.928558  ]\n",
            "   [ 11.214286    10.          15.        ]]\n",
            "\n",
            "  ...\n",
            "\n",
            "  [[153.56651    153.78078    145.78078   ]\n",
            "   [145.07124    144.49977    138.85698   ]\n",
            "   [ 28.606323    27.988935    24.249159  ]\n",
            "   ...\n",
            "   [114.50537    100.36243     79.57669   ]\n",
            "   [135.41832    117.48975     93.34687   ]\n",
            "   [150.54109    130.61763    103.38803   ]]\n",
            "\n",
            "  [[156.9386     155.9386     150.9386    ]\n",
            "   [ 57.12193     56.12193     51.18827   ]\n",
            "   [ 14.148013    12.933727    11.576585  ]\n",
            "   ...\n",
            "   [104.33175     91.8062      73.00516   ]\n",
            "   [139.02042    122.95408     98.02042   ]\n",
            "   [143.88747    124.025246    98.97932   ]]\n",
            "\n",
            "  [[ 94.34073     93.34073     88.34073   ]\n",
            "   [ 11.398155    10.398155     6.398155  ]\n",
            "   [ 14.887555    13.673269    12.316127  ]\n",
            "   ...\n",
            "   [117.13857    105.20989     86.77119   ]\n",
            "   [135.44434    119.444336    96.30145   ]\n",
            "   [139.78046    122.78046     96.78046   ]]]\n",
            "\n",
            "\n",
            " [[[124.43367    135.78061    150.44897   ]\n",
            "   [196.88266    190.29082    192.42857   ]\n",
            "   [172.51021    153.87245    142.7347    ]\n",
            "   ...\n",
            "   [123.64797     86.64797     42.142857  ]\n",
            "   [128.14288     92.14288     43.94897   ]\n",
            "   [130.86732     95.2245      42.510147  ]]\n",
            "\n",
            "  [[108.20408    125.39286    150.63776   ]\n",
            "   [159.92857    158.35715    169.4949    ]\n",
            "   [177.39795    163.92857    156.7143    ]\n",
            "   ...\n",
            "   [119.92857     81.71431     37.142838  ]\n",
            "   [122.22448     84.22448     37.081593  ]\n",
            "   [117.33153     80.33153     28.331524  ]]\n",
            "\n",
            "  [[114.16837    137.4643     179.5204    ]\n",
            "   [131.79593    139.4796     163.42346   ]\n",
            "   [161.91837    158.89795    158.65816   ]\n",
            "   ...\n",
            "   [118.35714     80.18879     35.525494  ]\n",
            "   [114.35717     76.35717     29.214287  ]\n",
            "   [123.418564    85.6992      35.857285  ]]\n",
            "\n",
            "  ...\n",
            "\n",
            "  [[  7.494884     7.494884     7.494884  ]\n",
            "   [  7.9438763    7.9438763    7.9438763 ]\n",
            "   [  9.57145      9.57145      9.57145   ]\n",
            "   ...\n",
            "   [229.         213.21426    196.57147   ]\n",
            "   [227.         211.         195.        ]\n",
            "   [228.8521     212.8521     196.8521    ]]\n",
            "\n",
            "  [[  9.331628     9.331628     9.331628  ]\n",
            "   [ 10.85713     10.85713     10.85713   ]\n",
            "   [ 12.642831    12.642831    12.642831  ]\n",
            "   ...\n",
            "   [226.92856    211.14282    194.50003   ]\n",
            "   [225.93365    209.93365    193.93365   ]\n",
            "   [228.68884    212.68884    196.68884   ]]\n",
            "\n",
            "  [[  8.586757     8.586757     8.586757  ]\n",
            "   [  8.928572     8.928572     8.928572  ]\n",
            "   [  9.709176     9.709176     9.709176  ]\n",
            "   ...\n",
            "   [225.92348    210.13774    193.49495   ]\n",
            "   [225.07144    209.07144    193.07144   ]\n",
            "   [228.35718    212.35718    196.35718   ]]]\n",
            "\n",
            "\n",
            " [[[199.87947    164.87947    122.87946   ]\n",
            "   [197.09007    163.35124    118.35124   ]\n",
            "   [196.         162.31712    117.046875  ]\n",
            "   ...\n",
            "   [142.04639     84.78799     51.79705   ]\n",
            "   [140.79163     86.2693      50.530464  ]\n",
            "   [142.83485     88.834854    52.834858  ]]\n",
            "\n",
            "  [[202.14062    168.7076     125.9241    ]\n",
            "   [198.70982    165.70982    120.709816  ]\n",
            "   [196.78348    163.99776    118.5692    ]\n",
            "   ...\n",
            "   [142.52283     83.18708     49.78348   ]\n",
            "   [140.83946     84.839455    49.839455  ]\n",
            "   [143.70763     88.14066     52.92414   ]]\n",
            "\n",
            "  [[201.3884     171.         127.        ]\n",
            "   [198.8152     168.73262    122.42681   ]\n",
            "   [196.93448    165.78572    119.57143   ]\n",
            "   ...\n",
            "   [143.4716      83.50595     48.93385   ]\n",
            "   [143.84822     85.76564     51.459835  ]\n",
            "   [144.99352     89.605125    54.299324  ]]\n",
            "\n",
            "  ...\n",
            "\n",
            "  [[179.46045    133.53188     63.17473   ]\n",
            "   [189.28984    132.57556     65.504135  ]\n",
            "   [177.26624    117.86896     52.603313  ]\n",
            "   ...\n",
            "   [190.39731    157.24857    116.6948    ]\n",
            "   [191.17355    158.17355    115.173546  ]\n",
            "   [189.41971    156.41971    112.808136  ]]\n",
            "\n",
            "  [[185.56311    135.84291     66.84292   ]\n",
            "   [182.13596    126.2259      58.95341   ]\n",
            "   [165.46236    109.849815    43.015465  ]\n",
            "   ...\n",
            "   [192.47717    158.47717    120.691444  ]\n",
            "   [189.21652    156.21652    115.21652   ]\n",
            "   [188.43304    155.43304    112.433044  ]]\n",
            "\n",
            "  [[175.641      121.9467      54.42442   ]\n",
            "   [169.76564    118.98223     50.24337   ]\n",
            "   [161.99725    112.809845    44.285275  ]\n",
            "   ...\n",
            "   [191.21194    157.21194    119.42621   ]\n",
            "   [187.78342    154.78342    113.78342   ]\n",
            "   [188.78618    155.78618    112.78619   ]]]\n",
            "\n",
            "\n",
            " ...\n",
            "\n",
            "\n",
            " [[[193.62755    209.62755    206.62755   ]\n",
            "   [183.28061    199.28061    196.28061   ]\n",
            "   [175.21939    190.79082    190.0051    ]\n",
            "   ...\n",
            "   [105.94388    123.94388    135.94388   ]\n",
            "   [106.19386    124.19386    136.19386   ]\n",
            "   [102.127495   120.127495   132.12749   ]]\n",
            "\n",
            "  [[195.0051     211.0051     208.0051    ]\n",
            "   [181.70407    197.70407    194.70407   ]\n",
            "   [178.69899    194.27042    193.4847    ]\n",
            "   ...\n",
            "   [106.43371    124.43371    136.43372   ]\n",
            "   [104.58672    122.58672    134.58673   ]\n",
            "   [105.83681    123.83681    135.8368    ]]\n",
            "\n",
            "  [[191.44899    208.09184    204.44899   ]\n",
            "   [181.96939    197.96939    194.96939   ]\n",
            "   [176.14285    191.76021    190.5       ]\n",
            "   ...\n",
            "   [118.33672    136.33672    148.33672   ]\n",
            "   [112.26527    130.26526    142.26526   ]\n",
            "   [106.02037    124.02037    136.02037   ]]\n",
            "\n",
            "  ...\n",
            "\n",
            "  [[114.9949     110.9949     109.9949    ]\n",
            "   [114.87245    110.87245    109.87245   ]\n",
            "   [113.83165    109.83165    110.49495   ]\n",
            "   ...\n",
            "   [181.47444    190.47444    187.47444   ]\n",
            "   [181.2551     190.2551     187.2551    ]\n",
            "   [181.78574    190.78574    187.78574   ]]\n",
            "\n",
            "  [[115.04591    111.04591    110.04591   ]\n",
            "   [114.92859    110.92859    111.92859   ]\n",
            "   [115.5153     111.5153     112.5153    ]\n",
            "   ...\n",
            "   [182.94386    191.94386    188.94386   ]\n",
            "   [183.91835    192.91835    189.91835   ]\n",
            "   [186.59686    195.59686    192.59686   ]]\n",
            "\n",
            "  [[114.         110.         111.        ]\n",
            "   [117.214325   113.214325   114.214325  ]\n",
            "   [113.64282    109.64282    110.64282   ]\n",
            "   ...\n",
            "   [180.49492    189.49492    186.49492   ]\n",
            "   [180.50015    189.50015    186.50015   ]\n",
            "   [181.91347    190.91347    187.91347   ]]]\n",
            "\n",
            "\n",
            " [[[105.71428     84.71428     55.714287  ]\n",
            "   [105.04592     84.04592     57.045918  ]\n",
            "   [ 99.          76.35714     52.785717  ]\n",
            "   ...\n",
            "   [ 18.862259    14.862259     3.862259  ]\n",
            "   [ 19.025515    15.025515     4.025515  ]\n",
            "   [ 19.357143    15.357142     4.357143  ]]\n",
            "\n",
            "  [[107.33163     86.2602      59.47449   ]\n",
            "   [108.92857     86.92857     62.9949    ]\n",
            "   [103.015305    80.372444    58.015305  ]\n",
            "   ...\n",
            "   [ 20.          16.           5.        ]\n",
            "   [ 20.071428    16.071428     5.0714283 ]\n",
            "   [ 21.          17.           6.        ]]\n",
            "\n",
            "  [[107.78571     85.78571     62.571426  ]\n",
            "   [109.71429     87.71429     66.158165  ]\n",
            "   [105.88265     83.2398      62.117344  ]\n",
            "   ...\n",
            "   [ 20.785713    16.785713     5.785714  ]\n",
            "   [ 21.          17.           6.        ]\n",
            "   [ 21.785713    17.785713     6.785714  ]]\n",
            "\n",
            "  ...\n",
            "\n",
            "  [[  4.357143     5.357143     0.3571428 ]\n",
            "   [  4.           5.           0.        ]\n",
            "   [  6.61734      7.61734      2.61734   ]\n",
            "   ...\n",
            "   [  8.           8.           0.        ]\n",
            "   [  8.           8.           0.        ]\n",
            "   [  8.           8.           0.        ]]\n",
            "\n",
            "  [[  4.357143     5.357143     0.3571428 ]\n",
            "   [  4.           5.           0.        ]\n",
            "   [  5.8010163    6.8010163    1.8010166 ]\n",
            "   ...\n",
            "   [  8.           8.           0.        ]\n",
            "   [  8.           8.           0.        ]\n",
            "   [  8.           8.           0.        ]]\n",
            "\n",
            "  [[  5.357143     6.357143     1.3571428 ]\n",
            "   [  4.           5.           0.        ]\n",
            "   [  4.785714     5.785714     0.78571415]\n",
            "   ...\n",
            "   [  7.           7.           0.        ]\n",
            "   [  7.           7.           0.        ]\n",
            "   [  7.           7.           0.        ]]]\n",
            "\n",
            "\n",
            " [[[148.69388    168.69388    175.69388   ]\n",
            "   [132.80103    151.80103    158.80103   ]\n",
            "   [139.40816    155.7653     166.40816   ]\n",
            "   ...\n",
            "   [182.77045    186.19897    192.98471   ]\n",
            "   [183.52548    183.52548    191.52548   ]\n",
            "   [177.98447    177.98447    185.98447   ]]\n",
            "\n",
            "  [[149.0153     169.0153     178.0153    ]\n",
            "   [136.77551    155.05103    164.91327   ]\n",
            "   [159.43367    175.7347     186.54591   ]\n",
            "   ...\n",
            "   [177.41342    180.57156    189.73993   ]\n",
            "   [181.86736    184.80104    194.00002   ]\n",
            "   [184.28554    184.28554    194.37737   ]]\n",
            "\n",
            "  [[154.02551    175.59694    186.16837   ]\n",
            "   [155.92856    176.04082    186.61224   ]\n",
            "   [161.90306    179.04593    193.        ]\n",
            "   ...\n",
            "   [168.59709    172.76541    184.29095   ]\n",
            "   [171.52559    173.5409     186.22455   ]\n",
            "   [179.99475    181.56618    193.91818   ]]\n",
            "\n",
            "  ...\n",
            "\n",
            "  [[  7.061227     4.9234924   26.352037  ]\n",
            "   [ 18.80104      4.9286156   10.397991  ]\n",
            "   [ 60.045925    26.500029     9.142876  ]\n",
            "   ...\n",
            "   [ 46.571472    46.974503    67.051056  ]\n",
            "   [ 55.92862     53.91331     67.69898   ]\n",
            "   [ 73.93396     70.78601     77.14819   ]]\n",
            "\n",
            "  [[  7.8826647    9.122489    28.193918  ]\n",
            "   [ 26.729713    16.219526    20.724625  ]\n",
            "   [ 63.331696    31.97455     13.831692  ]\n",
            "   ...\n",
            "   [ 48.229687    46.44395     66.80116   ]\n",
            "   [ 56.148045    52.352108    67.00003   ]\n",
            "   [ 74.2146      69.2146      75.85742   ]]\n",
            "\n",
            "  [[  7.6275573   13.040811    30.469387  ]\n",
            "   [ 37.26529     28.765287    32.33671   ]\n",
            "   [ 67.22958     38.086727    18.943867  ]\n",
            "   ...\n",
            "   [ 51.418365    48.418365    66.98984   ]\n",
            "   [ 57.59699     53.66843     68.38266   ]\n",
            "   [ 71.34207     66.34207     72.98489   ]]]], shape=(32, 224, 224, 3), dtype=float32) tf.Tensor(\n",
            "[[0. 0. 0. 0. 0. 1. 0. 0. 0. 0.]\n",
            " [0. 0. 0. 0. 0. 0. 0. 1. 0. 0.]\n",
            " [0. 0. 1. 0. 0. 0. 0. 0. 0. 0.]\n",
            " [0. 0. 1. 0. 0. 0. 0. 0. 0. 0.]\n",
            " [0. 0. 0. 0. 0. 0. 1. 0. 0. 0.]\n",
            " [0. 0. 0. 0. 0. 0. 0. 0. 1. 0.]\n",
            " [0. 0. 0. 0. 0. 1. 0. 0. 0. 0.]\n",
            " [0. 0. 0. 0. 0. 1. 0. 0. 0. 0.]\n",
            " [0. 0. 0. 0. 0. 0. 0. 0. 0. 1.]\n",
            " [0. 0. 0. 0. 0. 1. 0. 0. 0. 0.]\n",
            " [0. 0. 0. 0. 0. 0. 0. 1. 0. 0.]\n",
            " [0. 0. 0. 0. 0. 0. 0. 0. 1. 0.]\n",
            " [1. 0. 0. 0. 0. 0. 0. 0. 0. 0.]\n",
            " [0. 0. 1. 0. 0. 0. 0. 0. 0. 0.]\n",
            " [0. 0. 1. 0. 0. 0. 0. 0. 0. 0.]\n",
            " [0. 0. 0. 0. 1. 0. 0. 0. 0. 0.]\n",
            " [0. 0. 0. 0. 1. 0. 0. 0. 0. 0.]\n",
            " [0. 0. 0. 0. 0. 0. 0. 0. 0. 1.]\n",
            " [0. 1. 0. 0. 0. 0. 0. 0. 0. 0.]\n",
            " [0. 1. 0. 0. 0. 0. 0. 0. 0. 0.]\n",
            " [0. 1. 0. 0. 0. 0. 0. 0. 0. 0.]\n",
            " [0. 0. 0. 0. 0. 0. 0. 0. 0. 1.]\n",
            " [0. 0. 1. 0. 0. 0. 0. 0. 0. 0.]\n",
            " [0. 0. 0. 0. 1. 0. 0. 0. 0. 0.]\n",
            " [0. 1. 0. 0. 0. 0. 0. 0. 0. 0.]\n",
            " [0. 0. 0. 0. 0. 0. 0. 0. 1. 0.]\n",
            " [0. 0. 0. 0. 0. 0. 0. 1. 0. 0.]\n",
            " [0. 0. 0. 1. 0. 0. 0. 0. 0. 0.]\n",
            " [0. 0. 0. 0. 0. 1. 0. 0. 0. 0.]\n",
            " [0. 0. 0. 0. 0. 0. 0. 0. 1. 0.]\n",
            " [0. 0. 0. 0. 0. 0. 0. 1. 0. 0.]\n",
            " [0. 0. 0. 0. 1. 0. 0. 0. 0. 0.]], shape=(32, 10), dtype=float32)\n",
            "(32, 224, 224, 3)\n"
          ]
        }
      ]
    },
    {
      "cell_type": "markdown",
      "source": [
        "### Modèle 0 : construction d'un modèle d'apprentissage par transfert à l'aide de l'API fonctionnelle Keras\n",
        "\n",
        "Nous allons utiliser le module `tf.keras.applications` qui contient une série de modèles de vision par ordinateur déjà entraînés (sur ImageNet) ainsi que l'API fonctionnelle Keras pour construire notre modèle.\n",
        "\n",
        "Voici les étapes que l'on suivra :    \n",
        "\n",
        "1. Instancier un objet de modèle de base pré-entraîné en choisissant un modèle cible tel que EfficientNetB0 dans tf.keras.applications, en réglant le paramètre `include_top` sur `False` (car nous allons créer nos propres top, qui sont les couches de sortie du modèle).\n",
        "\n",
        "2. Définir l'attribut `trainable` du modèle de base à False pour geler tous les poids du modèle pré-entraîné.\n",
        "\n",
        "3. Définir une couche d'entrée pour notre modèle, par exemple, quelle forme de données notre modèle doit-il attendre.\n",
        "\n",
        "4. (Facultatif) Normaliser les entrées de notre modèle si nécessaire. Certains modèles de vision par ordinateur, tels que ResNetV250, exigent que leurs entrées soient comprises entre 0 et 1.\n",
        "\n",
        "5. Transmettre les entrées au modèle de base.\n",
        "\n",
        "6. Mettre en commun les sorties du modèle de base dans une forme compatible avec la couche d'activation de sortie (transformer les tenseurs de sortie du modèle de base dans la même forme que les tenseurs d'étiquettes). Cela peut être fait en utilisant `tf.keras.layers.GlobalAveragePooling2D()` ou `tf.keras.layers.GlobalMaxPooling2D()` bien que le premier soit plus courant en pratique.\n",
        "\n",
        "7. Créer une couche d'activation de sortie en utilisant tf.keras.layers.Dense() avec la fonction d'activation appropriée et le nombre de neurones.\n",
        "\n",
        "8. Combiner les couches d'entrées et de sorties dans un modèle en utilisant tf.keras.Model().\n",
        "\n",
        "9. Compiler le modèle en utilisant la fonction de perte appropriée et choisissez l'optimiseur.\n",
        "\n",
        "10. Ajustez le modèle pour le nombre d'époques souhaité et avec les callbacks nécessaires (dans notre cas, nous commencerons par le callback TensorBoard).\n",
        "\n"
      ],
      "metadata": {
        "id": "8LtCzQiPIVcS"
      }
    },
    {
      "cell_type": "code",
      "source": [
        "base_model = tf.keras.applications.EfficientNetB0(include_top=False) # 1.\n",
        "base_model.trainable=False # 2.\n",
        "inputs = tf.keras.layers.Input(shape=(224,224,3), name=\"input_layer\") # 3.\n",
        "\n",
        "x = base_model(inputs) # 5.\n",
        "# Quelle est la nouvelle dimension de nos données entrées au modèle\n",
        "print(f\"Shape après l'étape 5 {x.shape}\")\n",
        "\n",
        "x = tf.keras.layers.GlobalAveragePooling2D(name=\"global_average_pooling_layer\")(x) # 6.\n",
        "print(f\"Taille des données après GlobalAveragePooling2D(): {x.shape}\")\n",
        "\n",
        "outputs = tf.keras.layers.Dense(10, activation=\"softmax\", name=\"output_layer\")(x) # 7.\n",
        "\n",
        "model_0 = tf.keras.Model(inputs, outputs) #8\n",
        "\n",
        "model_0.compile(\n",
        "    loss = tf.keras.losses.CategoricalCrossentropy(),\n",
        "    optimizer=tf.keras.optimizers.Adam(),\n",
        "    metrics=[\"accuracy\"]\n",
        ")#9\n",
        "\n",
        "#10\n",
        "history_10_percent_ft = model_0.fit(\n",
        "    train_data_10_percent_ft,\n",
        "    epochs=5,\n",
        "    steps_per_epoch=len(train_data_10_percent_ft),\n",
        "    validation_data=test_data_10_percent_ft,\n",
        "    # Passez moins de données de validation pour que les époques soient plus rapides (nous voulons des expériences plus rapides !).\n",
        "    validation_steps = int(0.25 * len(test_data_10_percent_ft)),\n",
        "    callbacks=[create_tensorboard_callback(\"transfer_learning\", \"10_percent_feature_extract\")]\n",
        ")\n"
      ],
      "metadata": {
        "id": "0Dtz2IQYcqbt",
        "colab": {
          "base_uri": "https://localhost:8080/"
        },
        "outputId": "7a9999f4-f233-4638-8f63-08f8a6cb3a02"
      },
      "execution_count": null,
      "outputs": [
        {
          "output_type": "stream",
          "name": "stdout",
          "text": [
            "Downloading data from https://storage.googleapis.com/keras-applications/efficientnetb0_notop.h5\n",
            "16705208/16705208 [==============================] - 0s 0us/step\n",
            "Shape après l'étape 5 (None, 7, 7, 1280)\n",
            "Taille des données après GlobalAveragePooling2D(): (None, 1280)\n",
            "Saving TensorBoard log files to: transfer_learning/10_percent_feature_extract/20230108-113254\n",
            "Epoch 1/5\n",
            "24/24 [==============================] - 11s 225ms/step - loss: 1.8883 - accuracy: 0.3907 - val_loss: 1.2935 - val_accuracy: 0.7484\n",
            "Epoch 2/5\n",
            "24/24 [==============================] - 5s 191ms/step - loss: 1.1104 - accuracy: 0.7547 - val_loss: 0.9065 - val_accuracy: 0.7944\n",
            "Epoch 3/5\n",
            "24/24 [==============================] - 4s 161ms/step - loss: 0.7816 - accuracy: 0.8227 - val_loss: 0.7093 - val_accuracy: 0.8355\n",
            "Epoch 4/5\n",
            "24/24 [==============================] - 4s 167ms/step - loss: 0.6369 - accuracy: 0.8507 - val_loss: 0.6110 - val_accuracy: 0.8553\n",
            "Epoch 5/5\n",
            "24/24 [==============================] - 5s 190ms/step - loss: 0.5344 - accuracy: 0.8813 - val_loss: 0.5572 - val_accuracy: 0.8734\n"
          ]
        }
      ]
    },
    {
      "cell_type": "markdown",
      "source": [
        "Après environ une minute d'entraînement, notre modèle obtient des résultats incroyables sur les ensembles d'entraînement (précision de 88 % et plus) et de test (précision d'environ 84 %).\n",
        "\n",
        "C'est incroyable. Tout cela grâce à la puissance de l'apprentissage par transfert.\n",
        "\n",
        "Il est important de noter que le type d'apprentissage de transfert que nous avons utilisé ici est appelé apprentissage de transfert par extraction de caractéristiques, similaire à ce que nous avons fait avec les modèles TensorFlow Hub.\n",
        "\n",
        "En d'autres termes, nous avons transmis nos données personnalisées à un modèle déjà pré-entraîné (EfficientNetB0), nous lui avons demandé \"quels caractéristiques voyez-vous?\", puis nous avons ajouté notre propre couche de sortie pour nous assurer que les sorties étaient adaptées au nombre de classes souhaité."
      ],
      "metadata": {
        "id": "4pBPWHXFJcJw"
      }
    },
    {
      "cell_type": "code",
      "source": [
        "for layer_number, layer in enumerate(base_model.layers):\n",
        "  print(layer_number, layer.name)"
      ],
      "metadata": {
        "colab": {
          "base_uri": "https://localhost:8080/"
        },
        "id": "NU1zQcudUeLT",
        "outputId": "34bafcb2-5be7-4b43-a5e6-d58b0c59251d"
      },
      "execution_count": null,
      "outputs": [
        {
          "output_type": "stream",
          "name": "stdout",
          "text": [
            "0 input_1\n",
            "1 rescaling\n",
            "2 normalization\n",
            "3 tf.math.truediv\n",
            "4 stem_conv_pad\n",
            "5 stem_conv\n",
            "6 stem_bn\n",
            "7 stem_activation\n",
            "8 block1a_dwconv\n",
            "9 block1a_bn\n",
            "10 block1a_activation\n",
            "11 block1a_se_squeeze\n",
            "12 block1a_se_reshape\n",
            "13 block1a_se_reduce\n",
            "14 block1a_se_expand\n",
            "15 block1a_se_excite\n",
            "16 block1a_project_conv\n",
            "17 block1a_project_bn\n",
            "18 block2a_expand_conv\n",
            "19 block2a_expand_bn\n",
            "20 block2a_expand_activation\n",
            "21 block2a_dwconv_pad\n",
            "22 block2a_dwconv\n",
            "23 block2a_bn\n",
            "24 block2a_activation\n",
            "25 block2a_se_squeeze\n",
            "26 block2a_se_reshape\n",
            "27 block2a_se_reduce\n",
            "28 block2a_se_expand\n",
            "29 block2a_se_excite\n",
            "30 block2a_project_conv\n",
            "31 block2a_project_bn\n",
            "32 block2b_expand_conv\n",
            "33 block2b_expand_bn\n",
            "34 block2b_expand_activation\n",
            "35 block2b_dwconv\n",
            "36 block2b_bn\n",
            "37 block2b_activation\n",
            "38 block2b_se_squeeze\n",
            "39 block2b_se_reshape\n",
            "40 block2b_se_reduce\n",
            "41 block2b_se_expand\n",
            "42 block2b_se_excite\n",
            "43 block2b_project_conv\n",
            "44 block2b_project_bn\n",
            "45 block2b_drop\n",
            "46 block2b_add\n",
            "47 block3a_expand_conv\n",
            "48 block3a_expand_bn\n",
            "49 block3a_expand_activation\n",
            "50 block3a_dwconv_pad\n",
            "51 block3a_dwconv\n",
            "52 block3a_bn\n",
            "53 block3a_activation\n",
            "54 block3a_se_squeeze\n",
            "55 block3a_se_reshape\n",
            "56 block3a_se_reduce\n",
            "57 block3a_se_expand\n",
            "58 block3a_se_excite\n",
            "59 block3a_project_conv\n",
            "60 block3a_project_bn\n",
            "61 block3b_expand_conv\n",
            "62 block3b_expand_bn\n",
            "63 block3b_expand_activation\n",
            "64 block3b_dwconv\n",
            "65 block3b_bn\n",
            "66 block3b_activation\n",
            "67 block3b_se_squeeze\n",
            "68 block3b_se_reshape\n",
            "69 block3b_se_reduce\n",
            "70 block3b_se_expand\n",
            "71 block3b_se_excite\n",
            "72 block3b_project_conv\n",
            "73 block3b_project_bn\n",
            "74 block3b_drop\n",
            "75 block3b_add\n",
            "76 block4a_expand_conv\n",
            "77 block4a_expand_bn\n",
            "78 block4a_expand_activation\n",
            "79 block4a_dwconv_pad\n",
            "80 block4a_dwconv\n",
            "81 block4a_bn\n",
            "82 block4a_activation\n",
            "83 block4a_se_squeeze\n",
            "84 block4a_se_reshape\n",
            "85 block4a_se_reduce\n",
            "86 block4a_se_expand\n",
            "87 block4a_se_excite\n",
            "88 block4a_project_conv\n",
            "89 block4a_project_bn\n",
            "90 block4b_expand_conv\n",
            "91 block4b_expand_bn\n",
            "92 block4b_expand_activation\n",
            "93 block4b_dwconv\n",
            "94 block4b_bn\n",
            "95 block4b_activation\n",
            "96 block4b_se_squeeze\n",
            "97 block4b_se_reshape\n",
            "98 block4b_se_reduce\n",
            "99 block4b_se_expand\n",
            "100 block4b_se_excite\n",
            "101 block4b_project_conv\n",
            "102 block4b_project_bn\n",
            "103 block4b_drop\n",
            "104 block4b_add\n",
            "105 block4c_expand_conv\n",
            "106 block4c_expand_bn\n",
            "107 block4c_expand_activation\n",
            "108 block4c_dwconv\n",
            "109 block4c_bn\n",
            "110 block4c_activation\n",
            "111 block4c_se_squeeze\n",
            "112 block4c_se_reshape\n",
            "113 block4c_se_reduce\n",
            "114 block4c_se_expand\n",
            "115 block4c_se_excite\n",
            "116 block4c_project_conv\n",
            "117 block4c_project_bn\n",
            "118 block4c_drop\n",
            "119 block4c_add\n",
            "120 block5a_expand_conv\n",
            "121 block5a_expand_bn\n",
            "122 block5a_expand_activation\n",
            "123 block5a_dwconv\n",
            "124 block5a_bn\n",
            "125 block5a_activation\n",
            "126 block5a_se_squeeze\n",
            "127 block5a_se_reshape\n",
            "128 block5a_se_reduce\n",
            "129 block5a_se_expand\n",
            "130 block5a_se_excite\n",
            "131 block5a_project_conv\n",
            "132 block5a_project_bn\n",
            "133 block5b_expand_conv\n",
            "134 block5b_expand_bn\n",
            "135 block5b_expand_activation\n",
            "136 block5b_dwconv\n",
            "137 block5b_bn\n",
            "138 block5b_activation\n",
            "139 block5b_se_squeeze\n",
            "140 block5b_se_reshape\n",
            "141 block5b_se_reduce\n",
            "142 block5b_se_expand\n",
            "143 block5b_se_excite\n",
            "144 block5b_project_conv\n",
            "145 block5b_project_bn\n",
            "146 block5b_drop\n",
            "147 block5b_add\n",
            "148 block5c_expand_conv\n",
            "149 block5c_expand_bn\n",
            "150 block5c_expand_activation\n",
            "151 block5c_dwconv\n",
            "152 block5c_bn\n",
            "153 block5c_activation\n",
            "154 block5c_se_squeeze\n",
            "155 block5c_se_reshape\n",
            "156 block5c_se_reduce\n",
            "157 block5c_se_expand\n",
            "158 block5c_se_excite\n",
            "159 block5c_project_conv\n",
            "160 block5c_project_bn\n",
            "161 block5c_drop\n",
            "162 block5c_add\n",
            "163 block6a_expand_conv\n",
            "164 block6a_expand_bn\n",
            "165 block6a_expand_activation\n",
            "166 block6a_dwconv_pad\n",
            "167 block6a_dwconv\n",
            "168 block6a_bn\n",
            "169 block6a_activation\n",
            "170 block6a_se_squeeze\n",
            "171 block6a_se_reshape\n",
            "172 block6a_se_reduce\n",
            "173 block6a_se_expand\n",
            "174 block6a_se_excite\n",
            "175 block6a_project_conv\n",
            "176 block6a_project_bn\n",
            "177 block6b_expand_conv\n",
            "178 block6b_expand_bn\n",
            "179 block6b_expand_activation\n",
            "180 block6b_dwconv\n",
            "181 block6b_bn\n",
            "182 block6b_activation\n",
            "183 block6b_se_squeeze\n",
            "184 block6b_se_reshape\n",
            "185 block6b_se_reduce\n",
            "186 block6b_se_expand\n",
            "187 block6b_se_excite\n",
            "188 block6b_project_conv\n",
            "189 block6b_project_bn\n",
            "190 block6b_drop\n",
            "191 block6b_add\n",
            "192 block6c_expand_conv\n",
            "193 block6c_expand_bn\n",
            "194 block6c_expand_activation\n",
            "195 block6c_dwconv\n",
            "196 block6c_bn\n",
            "197 block6c_activation\n",
            "198 block6c_se_squeeze\n",
            "199 block6c_se_reshape\n",
            "200 block6c_se_reduce\n",
            "201 block6c_se_expand\n",
            "202 block6c_se_excite\n",
            "203 block6c_project_conv\n",
            "204 block6c_project_bn\n",
            "205 block6c_drop\n",
            "206 block6c_add\n",
            "207 block6d_expand_conv\n",
            "208 block6d_expand_bn\n",
            "209 block6d_expand_activation\n",
            "210 block6d_dwconv\n",
            "211 block6d_bn\n",
            "212 block6d_activation\n",
            "213 block6d_se_squeeze\n",
            "214 block6d_se_reshape\n",
            "215 block6d_se_reduce\n",
            "216 block6d_se_expand\n",
            "217 block6d_se_excite\n",
            "218 block6d_project_conv\n",
            "219 block6d_project_bn\n",
            "220 block6d_drop\n",
            "221 block6d_add\n",
            "222 block7a_expand_conv\n",
            "223 block7a_expand_bn\n",
            "224 block7a_expand_activation\n",
            "225 block7a_dwconv\n",
            "226 block7a_bn\n",
            "227 block7a_activation\n",
            "228 block7a_se_squeeze\n",
            "229 block7a_se_reshape\n",
            "230 block7a_se_reduce\n",
            "231 block7a_se_expand\n",
            "232 block7a_se_excite\n",
            "233 block7a_project_conv\n",
            "234 block7a_project_bn\n",
            "235 top_conv\n",
            "236 top_bn\n",
            "237 top_activation\n"
          ]
        }
      ]
    },
    {
      "cell_type": "code",
      "source": [
        "plot_loss_curves(history_10_percent_ft)"
      ],
      "metadata": {
        "colab": {
          "base_uri": "https://localhost:8080/",
          "height": 573
        },
        "id": "SrXS3RohXXNS",
        "outputId": "9dca92c5-3836-4df3-bcae-68e9ec15ae05"
      },
      "execution_count": null,
      "outputs": [
        {
          "output_type": "display_data",
          "data": {
            "text/plain": [
              "<Figure size 432x288 with 1 Axes>"
            ],
            "image/png": "[encoded data removed]"
          },
          "metadata": {
            "needs_background": "light"
          }
        },
        {
          "output_type": "display_data",
          "data": {
            "text/plain": [
              "<Figure size 432x288 with 1 Axes>"
            ],
            "image/png": "[encoded data removed]"
          },
          "metadata": {
            "needs_background": "light"
          }
        }
      ]
    },
    {
      "cell_type": "markdown",
      "source": [
        "### Obtenir un vecteur de caractéristiques à partir d'un modèle entraîné\n",
        "\n",
        "La couche `tf.keras.layers.GlobalAveragePooling2D()` transforme un tenseur 4D en un tenseur 2D en faisant la moyenne des valeurs sur les axes internes.\n",
        "\n"
      ],
      "metadata": {
        "id": "BjzRKSFYYFUA"
      }
    },
    {
      "cell_type": "code",
      "source": [
        "input_shape = (1,4,4,3)\n",
        "tf.random.set_seed(42)\n",
        "\n",
        "input_tensor = tf.random"
      ],
      "metadata": {
        "id": "nGKYAnXOeSkd"
      },
      "execution_count": null,
      "outputs": []
    },
    {
      "cell_type": "code",
      "source": [],
      "metadata": {
        "id": "paR0sSFiKilS"
      },
      "execution_count": null,
      "outputs": []
    }
  ],
  "metadata": {
    "colab": {
      "provenance": [],
      "authorship_tag": "ABX9TyMluAdCOHJXy55r2PMnoxqe",
      "include_colab_link": true
    },
    "gpuClass": "standard",
    "kernelspec": {
      "display_name": "Python 3",
      "name": "python3"
    },
    "language_info": {
      "name": "python"
    },
    "accelerator": "GPU"
  },
  "nbformat": 4,
  "nbformat_minor": 0
}